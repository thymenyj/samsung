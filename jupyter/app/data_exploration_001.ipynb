{
 "cells": [
  {
   "cell_type": "markdown",
   "id": "1311174f-26a0-4109-8b83-439dba00ad80",
   "metadata": {},
   "source": [
    "## Data Exploration"
   ]
  },
  {
   "cell_type": "code",
   "execution_count": 30,
   "id": "ac49b178-ac9f-4591-aa20-070ba432dd5b",
   "metadata": {},
   "outputs": [],
   "source": [
    "from pandas import read_pickle"
   ]
  },
  {
   "cell_type": "code",
   "execution_count": null,
   "id": "8dc2d65f-b662-439d-86c2-51999aeeb73e",
   "metadata": {},
   "outputs": [],
   "source": [
    "data = read_pickle(\"data/data_all_features.pkl\")"
   ]
  },
  {
   "cell_type": "code",
   "execution_count": 32,
   "id": "56876e23-08c2-4217-8c4b-ca6b4aca5939",
   "metadata": {},
   "outputs": [
    {
     "data": {
      "text/plain": [
       "dict_keys(['X_train', 'y_train', 'X_test', 'feature_names', 'categorial', 'numerical', 'id_numeration_train', 'id_numeration_test'])"
      ]
     },
     "execution_count": 32,
     "metadata": {},
     "output_type": "execute_result"
    }
   ],
   "source": [
    "data.keys()"
   ]
  },
  {
   "cell_type": "code",
   "execution_count": 53,
   "id": "8d8883aa-db84-4901-b7a1-6fbfb2b2bb2b",
   "metadata": {},
   "outputs": [],
   "source": [
    "X_train = data.get(\"X_train\")\n",
    "y_train = data.get(\"y_train\")\n",
    "X_test = data.get(\"X_test\")\n",
    "feature_names = data.get(\"feature_names\")\n",
    "categorical = data.get(\"categorical\")\n",
    "numerical = data.get(\"numerical\")\n",
    "id_numeration_train = data.get(\"id_numeration_train\")\n",
    "id_numeration_test = data.get(\"id_numeration_test\")"
   ]
  },
  {
   "cell_type": "code",
   "execution_count": 54,
   "id": "64e0883f-b8c5-4ee6-9bd1-b6578cf9120b",
   "metadata": {},
   "outputs": [
    {
     "data": {
      "text/plain": [
       "array([[1., 1., 1., ..., 0., 0., 4.],\n",
       "       [1., 1., 1., ..., 0., 0., 4.],\n",
       "       [1., 1., 1., ..., 0., 0., 4.],\n",
       "       ...,\n",
       "       [1., 1., 1., ..., 0., 0., 4.],\n",
       "       [1., 1., 1., ..., 0., 0., 4.],\n",
       "       [1., 1., 1., ..., 0., 0., 4.]])"
      ]
     },
     "execution_count": 54,
     "metadata": {},
     "output_type": "execute_result"
    }
   ],
   "source": [
    "X_train[:10]"
   ]
  },
  {
   "cell_type": "code",
   "execution_count": 55,
   "id": "b8699742-ad6b-427d-ade8-4b86dcc3ca0b",
   "metadata": {},
   "outputs": [
    {
     "data": {
      "text/plain": [
       "array([1., 1., 1., 1., 1., 0., 0., 0., 0., 0., 0., 1., 0., 0., 0., 1., 0.,\n",
       "       0., 0., 0., 0., 0., 0., 0., 0., 0., 0., 0., 0., 0., 0., 0., 1., 0.,\n",
       "       1., 0., 0., 1., 0., 0., 0., 0., 0., 0., 0., 1., 0., 0., 0., 0., 0.,\n",
       "       0., 0., 0., 0., 0., 0., 0., 0., 0., 0., 0., 0., 0., 0., 0., 0., 0.,\n",
       "       0., 0., 0., 0., 0., 0., 0., 0., 0., 0., 0., 0., 0., 0., 0., 0., 0.,\n",
       "       0., 0., 0., 0., 0., 0., 0., 0., 0., 0., 0., 0., 0., 0., 0., 0., 0.,\n",
       "       0., 0., 0., 0., 0., 0., 0., 0., 0., 1., 0., 0., 0., 0., 0., 0., 0.,\n",
       "       0., 0., 1., 1., 1., 0., 1., 1., 1., 0., 0., 0., 0., 0., 4.])"
      ]
     },
     "execution_count": 55,
     "metadata": {},
     "output_type": "execute_result"
    }
   ],
   "source": [
    "X_train[1]"
   ]
  },
  {
   "cell_type": "code",
   "execution_count": 56,
   "id": "16e38a11-182e-4cf7-a2af-41b660ea8214",
   "metadata": {},
   "outputs": [
    {
     "data": {
      "text/plain": [
       "134"
      ]
     },
     "execution_count": 56,
     "metadata": {},
     "output_type": "execute_result"
    }
   ],
   "source": [
    "# number of features\n",
    "len(X_train[1])"
   ]
  },
  {
   "cell_type": "code",
   "execution_count": 57,
   "id": "cd1c170c-a064-406b-b844-02bc9dcc84fc",
   "metadata": {},
   "outputs": [
    {
     "data": {
      "text/plain": [
       "array([0., 0., 0., 0., 0., 0., 0., 0., 0., 0., 0., 0., 0., 0., 0., 0., 0.,\n",
       "       0., 0., 0., 0., 0., 0., 0., 0., 0., 0., 0., 0., 0., 0., 0., 0., 0.,\n",
       "       0., 0., 0., 0., 0., 0., 0., 0., 0., 0., 0., 0., 0., 0., 0., 0., 0.,\n",
       "       0., 0., 0., 0., 0., 0., 0., 0., 0., 0., 0., 0., 0., 0., 0., 0., 0.,\n",
       "       0., 0., 0., 0., 0., 0., 0., 0., 0., 0., 0., 0., 0., 0., 0., 0., 0.,\n",
       "       0., 0., 0., 0., 0., 0., 0., 0., 0., 0., 0., 0., 0., 0., 0.])"
      ]
     },
     "execution_count": 57,
     "metadata": {},
     "output_type": "execute_result"
    }
   ],
   "source": [
    "# y_train\n",
    "y_train[:100]"
   ]
  },
  {
   "cell_type": "code",
   "execution_count": 58,
   "id": "6f51235e-f2ae-4611-9919-5166b01125ea",
   "metadata": {},
   "outputs": [
    {
     "data": {
      "text/plain": [
       "array([[ 2.,  0.,  4., ...,  0.,  0.,  0.],\n",
       "       [ 1.,  0.,  5., ...,  0.,  0.,  0.],\n",
       "       [ 1.,  0.,  7., ...,  0.,  0.,  0.],\n",
       "       ...,\n",
       "       [ 1.,  0., 52., ...,  0.,  0.,  0.],\n",
       "       [ 6.,  0.,  5., ...,  0.,  0.,  0.],\n",
       "       [ 1.,  0.,  6., ...,  0.,  0.,  0.]])"
      ]
     },
     "execution_count": 58,
     "metadata": {},
     "output_type": "execute_result"
    }
   ],
   "source": [
    "# X_test\n",
    "X_test[:10]"
   ]
  },
  {
   "cell_type": "code",
   "execution_count": 59,
   "id": "42504794-640d-41a4-a8aa-d5f0509859bf",
   "metadata": {},
   "outputs": [
    {
     "data": {
      "text/plain": [
       "array([  1.,   0.,   5.,   1.,   5.,   0.,   0.,   0.,   0.,   0.,   0.,\n",
       "         1.,   0.,   0.,   0.,   1.,   0.,   0.,   0.,   0.,   0.,   1.,\n",
       "         0.,   0.,   0.,   0.,   0.,   0.,   0.,   0.,   0.,   0.,   1.,\n",
       "         0.,   1.,   0.,   0.,   0.,   0.,   0.,   1.,   0.,   0.,   1.,\n",
       "         0.,   0.,   0.,   0.,   0.,   0.,   0.,   0.,   0.,   0.,   0.,\n",
       "         0.,   0.,   0.,   0.,   0.,   0.,   0.,   0.,   0.,   0.,   0.,\n",
       "         0.,   0.,   0.,   0.,   0.,   0.,   0.,   0.,   0.,   0.,   0.,\n",
       "         0.,   0.,   0.,   0.,   0.,   0.,   0.,   0.,   0.,   0.,   0.,\n",
       "         0.,   0.,   0.,   0.,   0.,   0.,   0.,   0.,   0.,   0.,   0.,\n",
       "         0.,   0.,   0.,   0.,   0.,   0.,   0.,   0.,   0.,   0.,   0.,\n",
       "         0.,   1.,   0.,   0.,   0.,   0.,   0.,   0.,   0.,   0.,   0.,\n",
       "         0.,   0., 231.,   0.,   2.,  38., 176.,   0.,   0.,   0.,   0.,\n",
       "         0.,   0.])"
      ]
     },
     "execution_count": 59,
     "metadata": {},
     "output_type": "execute_result"
    }
   ],
   "source": [
    "# X_test\n",
    "X_test[:10][1]"
   ]
  },
  {
   "cell_type": "code",
   "execution_count": 69,
   "id": "ad1d17e9-7d0a-4c50-a525-a1774e152318",
   "metadata": {},
   "outputs": [
    {
     "data": {
      "text/plain": [
       "902755"
      ]
     },
     "execution_count": 69,
     "metadata": {},
     "output_type": "execute_result"
    }
   ],
   "source": [
    "number_visits = len(y_train)\n",
    "number_visits"
   ]
  },
  {
   "cell_type": "code",
   "execution_count": 71,
   "id": "e047a6f6-7d07-452f-b063-372440517368",
   "metadata": {},
   "outputs": [
    {
     "data": {
      "text/plain": [
       "11512"
      ]
     },
     "execution_count": 71,
     "metadata": {},
     "output_type": "execute_result"
    }
   ],
   "source": [
    "visits_with_positive_revenue = y_train[y_train != 0]\n",
    "number_visits_with_positive_revenue = len(visits_with_positive_revenue)\n",
    "number_visits_with_positive_revenue"
   ]
  },
  {
   "cell_type": "code",
   "execution_count": 75,
   "id": "756641bc-cc69-423c-bf07-5275186d3266",
   "metadata": {},
   "outputs": [
    {
     "data": {
      "text/plain": [
       "1.28"
      ]
     },
     "execution_count": 75,
     "metadata": {},
     "output_type": "execute_result"
    }
   ],
   "source": [
    "round(number_visits_with_positive_revenue/number_visits, 4) * 100"
   ]
  },
  {
   "cell_type": "code",
   "execution_count": 38,
   "id": "392a0c4b-53a3-4412-bf48-1733787a8b11",
   "metadata": {},
   "outputs": [
    {
     "data": {
      "text/plain": [
       "['visitNumber',\n",
       " 'totals_bounces',\n",
       " 'totals_hits',\n",
       " 'totals_newVisits',\n",
       " 'totals_pageviews',\n",
       " 'trafficSource_adwordsClickInfo.page',\n",
       " 'trafficSource_isTrueDirect',\n",
       " 'device_isMobile',\n",
       " 'channelGrouping_Affiliates',\n",
       " 'channelGrouping_Direct']"
      ]
     },
     "execution_count": 38,
     "metadata": {},
     "output_type": "execute_result"
    }
   ],
   "source": [
    "data.get(\"feature_names\")[:10]"
   ]
  },
  {
   "cell_type": "code",
   "execution_count": 43,
   "id": "9a161c97-356a-4c16-8c21-52009af98666",
   "metadata": {},
   "outputs": [
    {
     "data": {
      "text/plain": [
       "134"
      ]
     },
     "execution_count": 43,
     "metadata": {},
     "output_type": "execute_result"
    }
   ],
   "source": [
    "len(data.get(\"feature_names\"))"
   ]
  },
  {
   "cell_type": "code",
   "execution_count": 39,
   "id": "4c26347b-be5f-45e2-9427-aba429e444f5",
   "metadata": {},
   "outputs": [
    {
     "data": {
      "text/plain": [
       "['device_browser',\n",
       " 'device_operatingSystem',\n",
       " 'geoNetwork_city',\n",
       " 'geoNetwork_metro',\n",
       " 'geoNetwork_country',\n",
       " 'geoNetwork_networkDomain',\n",
       " 'geoNetwork_region',\n",
       " 'trafficSource_adContent',\n",
       " 'trafficSource_campaign',\n",
       " 'trafficSource_keyword',\n",
       " 'trafficSource_source',\n",
       " 'trafficSource_referralPath',\n",
       " 'weekday']"
      ]
     },
     "execution_count": 39,
     "metadata": {},
     "output_type": "execute_result"
    }
   ],
   "source": [
    "data.get(\"categorial\")"
   ]
  },
  {
   "cell_type": "code",
   "execution_count": 40,
   "id": "4ee34565-11ed-45fd-9c08-bbd5e8c85686",
   "metadata": {},
   "outputs": [
    {
     "data": {
      "text/plain": [
       "['visitNumber',\n",
       " 'totals_bounces',\n",
       " 'totals_hits',\n",
       " 'totals_newVisits',\n",
       " 'totals_pageviews',\n",
       " 'trafficSource_adwordsClickInfo.isVideoAd',\n",
       " 'trafficSource_adwordsClickInfo.page',\n",
       " 'trafficSource_isTrueDirect',\n",
       " 'device_isMobile']"
      ]
     },
     "execution_count": 40,
     "metadata": {},
     "output_type": "execute_result"
    }
   ],
   "source": [
    "data.get(\"numerical\")"
   ]
  },
  {
   "cell_type": "code",
   "execution_count": 41,
   "id": "d46577b7-ef4b-4973-a34f-b06996f1f625",
   "metadata": {},
   "outputs": [
    {
     "data": {
      "text/plain": [
       "array([['1131660440785968503'],\n",
       "       ['377306020877927890'],\n",
       "       ['3895546263509774583'],\n",
       "       ['4763447161404445595'],\n",
       "       ['27294437909732085'],\n",
       "       ['2938943183656635653'],\n",
       "       ['1905672039242460897'],\n",
       "       ['537222803633850821'],\n",
       "       ['4445454811831400414'],\n",
       "       ['9499785259412240342']], dtype=object)"
      ]
     },
     "execution_count": 41,
     "metadata": {},
     "output_type": "execute_result"
    }
   ],
   "source": [
    "data.get(\"id_numeration_train\")[:10]"
   ]
  },
  {
   "cell_type": "code",
   "execution_count": 42,
   "id": "36b942b5-b506-442d-b1ee-fb6d2cac625a",
   "metadata": {},
   "outputs": [
    {
     "data": {
      "text/plain": [
       "array([['1131660440785968503'],\n",
       "       ['377306020877927890'],\n",
       "       ['3895546263509774583'],\n",
       "       ['4763447161404445595'],\n",
       "       ['27294437909732085'],\n",
       "       ['2938943183656635653'],\n",
       "       ['1905672039242460897'],\n",
       "       ['537222803633850821'],\n",
       "       ['4445454811831400414'],\n",
       "       ['9499785259412240342']], dtype=object)"
      ]
     },
     "execution_count": 42,
     "metadata": {},
     "output_type": "execute_result"
    }
   ],
   "source": [
    "data.get(\"id_numeration_train\")[:10]"
   ]
  },
  {
   "cell_type": "code",
   "execution_count": 48,
   "id": "9a11b900-fa4e-4f02-80a0-63e24b17680e",
   "metadata": {},
   "outputs": [
    {
     "data": {
      "text/plain": [
       "['visitNumber',\n",
       " 'totals_bounces',\n",
       " 'totals_hits',\n",
       " 'totals_newVisits',\n",
       " 'totals_pageviews',\n",
       " 'trafficSource_adwordsClickInfo.page',\n",
       " 'trafficSource_isTrueDirect',\n",
       " 'device_isMobile',\n",
       " 'channelGrouping_Affiliates',\n",
       " 'channelGrouping_Direct',\n",
       " 'channelGrouping_Display',\n",
       " 'channelGrouping_Organic Search',\n",
       " 'channelGrouping_Paid Search',\n",
       " 'channelGrouping_Referral',\n",
       " 'channelGrouping_Social',\n",
       " 'device_deviceCategory_desktop',\n",
       " 'device_deviceCategory_mobile',\n",
       " 'device_deviceCategory_tablet',\n",
       " 'geoNetwork_continent_@',\n",
       " 'geoNetwork_continent_Americas',\n",
       " 'geoNetwork_continent_Asia',\n",
       " 'geoNetwork_continent_Europe',\n",
       " 'geoNetwork_subContinent_@',\n",
       " 'geoNetwork_subContinent_Caribbean',\n",
       " 'geoNetwork_subContinent_Central America',\n",
       " 'geoNetwork_subContinent_Eastern Asia',\n",
       " 'geoNetwork_subContinent_Northern America',\n",
       " 'geoNetwork_subContinent_Northern Europe',\n",
       " 'geoNetwork_subContinent_South America',\n",
       " 'geoNetwork_subContinent_Western Asia',\n",
       " 'trafficSource_medium_@',\n",
       " 'trafficSource_medium_cpm',\n",
       " 'trafficSource_medium_organic',\n",
       " 'trafficSource_medium_referral',\n",
       " 'trafficSource_adwordsClickInfo.adNetworkType_@',\n",
       " 'trafficSource_adwordsClickInfo.slot_Top',\n",
       " 'device_browser_Safari',\n",
       " 'device_browser_Firefox',\n",
       " 'device_browser_Internet Explorer',\n",
       " 'device_browser_Edge',\n",
       " 'device_browser_Chrome',\n",
       " 'device_operatingSystem_Linux',\n",
       " 'device_operatingSystem_iOS',\n",
       " 'device_operatingSystem_Windows',\n",
       " 'device_operatingSystem_Android',\n",
       " 'device_operatingSystem_Macintosh',\n",
       " 'device_operatingSystem_Chrome OS',\n",
       " 'geoNetwork_city_San Francisco',\n",
       " 'geoNetwork_city_Sunnyvale',\n",
       " 'geoNetwork_city_Houston',\n",
       " 'geoNetwork_city_San Bruno',\n",
       " 'geoNetwork_city_San Jose',\n",
       " 'geoNetwork_city_Washington',\n",
       " 'geoNetwork_city_New York',\n",
       " 'geoNetwork_city_Austin',\n",
       " 'geoNetwork_city_Atlanta',\n",
       " 'geoNetwork_city_Seattle',\n",
       " 'geoNetwork_city_Kirkland',\n",
       " 'geoNetwork_city_Chicago',\n",
       " 'geoNetwork_city_Toronto',\n",
       " 'geoNetwork_city_Ann Arbor',\n",
       " 'geoNetwork_city_Mountain View',\n",
       " 'geoNetwork_city_Los Angeles',\n",
       " 'geoNetwork_city_Salem',\n",
       " 'geoNetwork_city_Cambridge',\n",
       " 'geoNetwork_city_Santa Clara',\n",
       " 'geoNetwork_metro_Seattle-Tacoma WA',\n",
       " 'geoNetwork_metro_Los Angeles CA',\n",
       " 'geoNetwork_metro_Chicago IL',\n",
       " 'geoNetwork_metro_New York NY',\n",
       " 'geoNetwork_metro_San Francisco-Oakland-San Jose CA',\n",
       " 'geoNetwork_country_Canada',\n",
       " 'geoNetwork_country_Brazil',\n",
       " 'geoNetwork_country_United States',\n",
       " 'geoNetwork_country_Venezuela',\n",
       " 'geoNetwork_networkDomain_rr.com',\n",
       " 'geoNetwork_networkDomain_cox.net',\n",
       " 'geoNetwork_networkDomain_comcastbusiness.net',\n",
       " 'geoNetwork_networkDomain_comcast.net',\n",
       " 'geoNetwork_networkDomain_verizon.net',\n",
       " 'geoNetwork_networkDomain_sbcglobal.net',\n",
       " 'geoNetwork_region_Georgia',\n",
       " 'geoNetwork_region_Washington',\n",
       " 'geoNetwork_region_New York',\n",
       " 'geoNetwork_region_District of Columbia',\n",
       " 'geoNetwork_region_Texas',\n",
       " 'geoNetwork_region_California',\n",
       " 'geoNetwork_region_Massachusetts',\n",
       " 'geoNetwork_region_Illinois',\n",
       " 'geoNetwork_region_Michigan',\n",
       " 'trafficSource_adContent_Google Merchandise Collection',\n",
       " 'trafficSource_campaign_AW - Accessories',\n",
       " 'trafficSource_campaign_AW - Dynamic Search Ads Whole Site',\n",
       " 'trafficSource_keyword_1hZbAqLCbjwfgOH7',\n",
       " 'trafficSource_keyword_6qEhsCssdK0z36ri',\n",
       " 'trafficSource_keyword_(Remarketing/Content targeting)',\n",
       " 'trafficSource_keyword_Google Merchandise',\n",
       " 'trafficSource_keyword_google merchandise store',\n",
       " 'trafficSource_source_sites.google.com',\n",
       " 'trafficSource_source_mail.google.com',\n",
       " 'trafficSource_source_t.co',\n",
       " 'trafficSource_source_groups.google.com',\n",
       " 'trafficSource_source_bing',\n",
       " 'trafficSource_source_l.facebook.com',\n",
       " 'trafficSource_source_dealspotr.com',\n",
       " 'trafficSource_source_youtube.com',\n",
       " 'trafficSource_source_mall.googleplex.com',\n",
       " 'trafficSource_source_yahoo',\n",
       " 'trafficSource_source_dfa',\n",
       " 'trafficSource_source_analytics.google.com',\n",
       " 'trafficSource_source_(direct)',\n",
       " 'trafficSource_source_google',\n",
       " 'trafficSource_referralPath_/offer/2145',\n",
       " 'trafficSource_referralPath_/google-merchandise-store',\n",
       " 'trafficSource_referralPath_/mail/u/0/',\n",
       " 'trafficSource_referralPath_/yt/about/tr/',\n",
       " 'trafficSource_referralPath_/a/google.com/forum/',\n",
       " 'trafficSource_referralPath_/yt/about/pt-BR/',\n",
       " 'trafficSource_referralPath_/yt/about/es-419/',\n",
       " 'trafficSource_referralPath_/yt/about/',\n",
       " 'trafficSource_referralPath_/analytics/web/',\n",
       " 'device_browser',\n",
       " 'device_operatingSystem',\n",
       " 'geoNetwork_city',\n",
       " 'geoNetwork_metro',\n",
       " 'geoNetwork_country',\n",
       " 'geoNetwork_networkDomain',\n",
       " 'geoNetwork_region',\n",
       " 'trafficSource_adContent',\n",
       " 'trafficSource_campaign',\n",
       " 'trafficSource_keyword',\n",
       " 'trafficSource_source',\n",
       " 'trafficSource_referralPath',\n",
       " 'weekday']"
      ]
     },
     "execution_count": 48,
     "metadata": {},
     "output_type": "execute_result"
    }
   ],
   "source": [
    "data.get(\"feature_names\")"
   ]
  },
  {
   "cell_type": "code",
   "execution_count": null,
   "id": "0c228ca3-bc27-4c22-b67d-a1df087c95fd",
   "metadata": {},
   "outputs": [],
   "source": []
  }
 ],
 "metadata": {
  "kernelspec": {
   "display_name": "Python 3 (ipykernel)",
   "language": "python",
   "name": "python3"
  },
  "language_info": {
   "codemirror_mode": {
    "name": "ipython",
    "version": 3
   },
   "file_extension": ".py",
   "mimetype": "text/x-python",
   "name": "python",
   "nbconvert_exporter": "python",
   "pygments_lexer": "ipython3",
   "version": "3.10.8"
  }
 },
 "nbformat": 4,
 "nbformat_minor": 5
}
