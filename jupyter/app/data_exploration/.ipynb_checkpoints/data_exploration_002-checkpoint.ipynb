{
 "cells": [
  {
   "cell_type": "code",
   "execution_count": 3,
   "id": "cda36d92-e474-4884-b207-adaca29527ac",
   "metadata": {},
   "outputs": [],
   "source": [
    "from pandas import read_pickle"
   ]
  },
  {
   "cell_type": "code",
   "execution_count": 4,
   "id": "551cb2f4-a955-4e80-a181-29cd33640711",
   "metadata": {},
   "outputs": [],
   "source": [
    "data = read_pickle(\"../data/data_all_features.pkl\")"
   ]
  },
  {
   "cell_type": "code",
   "execution_count": 5,
   "id": "6c9afd35-c2d1-469a-9cea-23cdc76fcac2",
   "metadata": {},
   "outputs": [],
   "source": [
    "X_train = data.get(\"X_train\")\n",
    "y_train = data.get(\"y_train\")\n",
    "X_test = data.get(\"X_test\")\n",
    "feature_names = data.get(\"feature_names\")\n",
    "categorical = data.get(\"categorical\")\n",
    "numerical = data.get(\"numerical\")\n",
    "id_numeration_train = data.get(\"id_numeration_train\")\n",
    "id_numeration_test = data.get(\"id_numeration_test\")"
   ]
  },
  {
   "cell_type": "code",
   "execution_count": 9,
   "id": "6ef0e2fb-5a99-41d5-90bd-871438198f37",
   "metadata": {},
   "outputs": [],
   "source": [
    "def get_percentage_paying_visitors(y_train):\n",
    "    number_visits = len(y_train)\n",
    "    visits_with_positive_revenue = y_train[y_train > 0]\n",
    "    number_visits_with_positive_revenue = len(visits_with_positive_revenue)\n",
    "    percentage_paying_visitors = round(number_visits_with_positive_revenue/number_visits, 4) * 100\n",
    "    return percentage_paying_visitors"
   ]
  },
  {
   "cell_type": "code",
   "execution_count": 10,
   "id": "5ee400fd-1e5f-4d12-838f-adea9051b7d2",
   "metadata": {},
   "outputs": [
    {
     "data": {
      "text/plain": [
       "1.28"
      ]
     },
     "execution_count": 10,
     "metadata": {},
     "output_type": "execute_result"
    }
   ],
   "source": [
    "get_percentage_paying_visitors(y_train)"
   ]
  },
  {
   "cell_type": "code",
   "execution_count": null,
   "id": "216bc5cb-4ed4-4881-9394-bcd8882f694b",
   "metadata": {},
   "outputs": [],
   "source": []
  }
 ],
 "metadata": {
  "kernelspec": {
   "display_name": "Python 3 (ipykernel)",
   "language": "python",
   "name": "python3"
  },
  "language_info": {
   "codemirror_mode": {
    "name": "ipython",
    "version": 3
   },
   "file_extension": ".py",
   "mimetype": "text/x-python",
   "name": "python",
   "nbconvert_exporter": "python",
   "pygments_lexer": "ipython3",
   "version": "3.10.8"
  }
 },
 "nbformat": 4,
 "nbformat_minor": 5
}
