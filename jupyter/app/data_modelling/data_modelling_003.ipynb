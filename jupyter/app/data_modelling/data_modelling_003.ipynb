{
 "cells": [
  {
   "cell_type": "code",
   "execution_count": 1,
   "id": "7db74343-980f-41d4-86f0-283535867ca6",
   "metadata": {},
   "outputs": [],
   "source": [
    "from pandas import read_pickle, DataFrame\n",
    "from sklearn.model_selection import train_test_split"
   ]
  },
  {
   "cell_type": "code",
   "execution_count": 2,
   "id": "9f707f6d-f6e7-4393-a9c4-bda60548909d",
   "metadata": {},
   "outputs": [
    {
     "ename": "FileNotFoundError",
     "evalue": "[Errno 2] No such file or directory: '../data/data_all_features.pkl'",
     "output_type": "error",
     "traceback": [
      "\u001b[0;31m---------------------------------------------------------------------------\u001b[0m",
      "\u001b[0;31mFileNotFoundError\u001b[0m                         Traceback (most recent call last)",
      "Cell \u001b[0;32mIn[2], line 1\u001b[0m\n\u001b[0;32m----> 1\u001b[0m data \u001b[38;5;241m=\u001b[39m \u001b[43mread_pickle\u001b[49m\u001b[43m(\u001b[49m\u001b[38;5;124;43m\"\u001b[39;49m\u001b[38;5;124;43m../data/data_all_features.pkl\u001b[39;49m\u001b[38;5;124;43m\"\u001b[39;49m\u001b[43m)\u001b[49m\n\u001b[1;32m      3\u001b[0m X_train \u001b[38;5;241m=\u001b[39m data\u001b[38;5;241m.\u001b[39mget(\u001b[38;5;124m\"\u001b[39m\u001b[38;5;124mX_train\u001b[39m\u001b[38;5;124m\"\u001b[39m)\n\u001b[1;32m      4\u001b[0m y_train \u001b[38;5;241m=\u001b[39m data\u001b[38;5;241m.\u001b[39mget(\u001b[38;5;124m\"\u001b[39m\u001b[38;5;124my_train\u001b[39m\u001b[38;5;124m\"\u001b[39m)\n",
      "File \u001b[0;32m/opt/conda/lib/python3.10/site-packages/pandas/io/pickle.py:190\u001b[0m, in \u001b[0;36mread_pickle\u001b[0;34m(filepath_or_buffer, compression, storage_options)\u001b[0m\n\u001b[1;32m    124\u001b[0m \u001b[39m\u001b[39m\u001b[39m\"\"\"\u001b[39;00m\n\u001b[1;32m    125\u001b[0m \u001b[39mLoad pickled pandas object (or any object) from file.\u001b[39;00m\n\u001b[1;32m    126\u001b[0m \n\u001b[0;32m   (...)\u001b[0m\n\u001b[1;32m    187\u001b[0m \u001b[39m4    4    9\u001b[39;00m\n\u001b[1;32m    188\u001b[0m \u001b[39m\"\"\"\u001b[39;00m\n\u001b[1;32m    189\u001b[0m excs_to_catch \u001b[39m=\u001b[39m (\u001b[39mAttributeError\u001b[39;00m, \u001b[39mImportError\u001b[39;00m, \u001b[39mModuleNotFoundError\u001b[39;00m, \u001b[39mTypeError\u001b[39;00m)\n\u001b[0;32m--> 190\u001b[0m \u001b[39mwith\u001b[39;00m get_handle(\n\u001b[1;32m    191\u001b[0m     filepath_or_buffer,\n\u001b[1;32m    192\u001b[0m     \u001b[39m\"\u001b[39;49m\u001b[39mrb\u001b[39;49m\u001b[39m\"\u001b[39;49m,\n\u001b[1;32m    193\u001b[0m     compression\u001b[39m=\u001b[39;49mcompression,\n\u001b[1;32m    194\u001b[0m     is_text\u001b[39m=\u001b[39;49m\u001b[39mFalse\u001b[39;49;00m,\n\u001b[1;32m    195\u001b[0m     storage_options\u001b[39m=\u001b[39;49mstorage_options,\n\u001b[1;32m    196\u001b[0m ) \u001b[39mas\u001b[39;00m handles:\n\u001b[1;32m    197\u001b[0m \n\u001b[1;32m    198\u001b[0m     \u001b[39m# 1) try standard library Pickle\u001b[39;00m\n\u001b[1;32m    199\u001b[0m     \u001b[39m# 2) try pickle_compat (older pandas version) to handle subclass changes\u001b[39;00m\n\u001b[1;32m    200\u001b[0m     \u001b[39m# 3) try pickle_compat with latin-1 encoding upon a UnicodeDecodeError\u001b[39;00m\n\u001b[1;32m    202\u001b[0m     \u001b[39mtry\u001b[39;00m:\n\u001b[1;32m    203\u001b[0m         \u001b[39m# TypeError for Cython complaints about object.__new__ vs Tick.__new__\u001b[39;00m\n\u001b[1;32m    204\u001b[0m         \u001b[39mtry\u001b[39;00m:\n",
      "File \u001b[0;32m/opt/conda/lib/python3.10/site-packages/pandas/io/common.py:865\u001b[0m, in \u001b[0;36mget_handle\u001b[0;34m(path_or_buf, mode, encoding, compression, memory_map, is_text, errors, storage_options)\u001b[0m\n\u001b[1;32m    856\u001b[0m         handle \u001b[39m=\u001b[39m \u001b[39mopen\u001b[39m(\n\u001b[1;32m    857\u001b[0m             handle,\n\u001b[1;32m    858\u001b[0m             ioargs\u001b[39m.\u001b[39mmode,\n\u001b[0;32m   (...)\u001b[0m\n\u001b[1;32m    861\u001b[0m             newline\u001b[39m=\u001b[39m\u001b[39m\"\u001b[39m\u001b[39m\"\u001b[39m,\n\u001b[1;32m    862\u001b[0m         )\n\u001b[1;32m    863\u001b[0m     \u001b[39melse\u001b[39;00m:\n\u001b[1;32m    864\u001b[0m         \u001b[39m# Binary mode\u001b[39;00m\n\u001b[0;32m--> 865\u001b[0m         handle \u001b[39m=\u001b[39m \u001b[39mopen\u001b[39;49m(handle, ioargs\u001b[39m.\u001b[39;49mmode)\n\u001b[1;32m    866\u001b[0m     handles\u001b[39m.\u001b[39mappend(handle)\n\u001b[1;32m    868\u001b[0m \u001b[39m# Convert BytesIO or file objects passed with an encoding\u001b[39;00m\n",
      "\u001b[0;31mFileNotFoundError\u001b[0m: [Errno 2] No such file or directory: '../data/data_all_features.pkl'"
     ]
    }
   ],
   "source": [
    "data = read_pickle(\"app/data/data_all_features.pkl\")\n",
    "\n",
    "X_train = data.get(\"X_train\")\n",
    "y_train = data.get(\"y_train\")\n",
    "X_test = data.get(\"X_test\")\n",
    "feature_names = data.get(\"feature_names\")\n",
    "categorical = data.get(\"categorical\")\n",
    "numerical = data.get(\"numerical\")\n",
    "id_numeration_train = data.get(\"id_numeration_train\")\n",
    "id_numeration_test = data.get(\"id_numeration_test\")"
   ]
  },
  {
   "cell_type": "code",
   "execution_count": 3,
   "id": "9291364d-de90-418a-aa9c-5b8117eee91c",
   "metadata": {},
   "outputs": [],
   "source": [
    "def get_visitor_dataframe(X_train, y_train, feature_names):\n",
    "    visitor_dataframe = DataFrame(columns=feature_names, data=X_train)\n",
    "    visitor_dataframe[\"totals_transaction_revenue\"] = y_train\n",
    "    return visitor_dataframe\n",
    "\n",
    "def add_positive_revenue_column(visitor_dataframe):\n",
    "    visitor_dataframe[\"positive_revenue\"] = visitor_dataframe[\"totals_transaction_revenue\"] > 0\n",
    "    visitor_dataframe[\"positive_revenue\"] = visitor_dataframe[\"positive_revenue\"].astype(\"float\")\n",
    "    return visitor_dataframe"
   ]
  },
  {
   "cell_type": "code",
   "execution_count": 4,
   "id": "78df9cbf-8163-4321-8b45-0942687cf436",
   "metadata": {},
   "outputs": [],
   "source": [
    "visitor_dataframe = get_visitor_dataframe(X_train, y_train, feature_names)\n",
    "visitor_dataframe = add_positive_revenue_column(visitor_dataframe)"
   ]
  },
  {
   "cell_type": "code",
   "execution_count": 5,
   "id": "9f2a8582-f361-4ef9-9da8-56756b6cfd03",
   "metadata": {},
   "outputs": [],
   "source": [
    "X_train, X_test, y_train, y_test = train_test_split(\n",
    "    visitor_dataframe.drop(columns=[\"positive_revenue\", \"totals_transaction_revenue\"]), \n",
    "    visitor_dataframe[\"positive_revenue\"], \n",
    "    test_size = 0.3,\n",
    "    random_state=1\n",
    ")"
   ]
  },
  {
   "cell_type": "code",
   "execution_count": 10,
   "id": "0267ce6a-6f3b-4b30-bb77-951e4df7df41",
   "metadata": {},
   "outputs": [
    {
     "name": "stderr",
     "output_type": "stream",
     "text": [
      "[Parallel(n_jobs=50)]: Using backend ThreadingBackend with 50 concurrent workers.\n",
      "[Parallel(n_jobs=50)]: Done 100 tasks      | elapsed:   25.5s\n",
      "[Parallel(n_jobs=50)]: Done 250 out of 250 | elapsed:   52.6s finished\n"
     ]
    },
    {
     "data": {
      "text/html": [
       "<style>#sk-container-id-3 {color: black;background-color: white;}#sk-container-id-3 pre{padding: 0;}#sk-container-id-3 div.sk-toggleable {background-color: white;}#sk-container-id-3 label.sk-toggleable__label {cursor: pointer;display: block;width: 100%;margin-bottom: 0;padding: 0.3em;box-sizing: border-box;text-align: center;}#sk-container-id-3 label.sk-toggleable__label-arrow:before {content: \"▸\";float: left;margin-right: 0.25em;color: #696969;}#sk-container-id-3 label.sk-toggleable__label-arrow:hover:before {color: black;}#sk-container-id-3 div.sk-estimator:hover label.sk-toggleable__label-arrow:before {color: black;}#sk-container-id-3 div.sk-toggleable__content {max-height: 0;max-width: 0;overflow: hidden;text-align: left;background-color: #f0f8ff;}#sk-container-id-3 div.sk-toggleable__content pre {margin: 0.2em;color: black;border-radius: 0.25em;background-color: #f0f8ff;}#sk-container-id-3 input.sk-toggleable__control:checked~div.sk-toggleable__content {max-height: 200px;max-width: 100%;overflow: auto;}#sk-container-id-3 input.sk-toggleable__control:checked~label.sk-toggleable__label-arrow:before {content: \"▾\";}#sk-container-id-3 div.sk-estimator input.sk-toggleable__control:checked~label.sk-toggleable__label {background-color: #d4ebff;}#sk-container-id-3 div.sk-label input.sk-toggleable__control:checked~label.sk-toggleable__label {background-color: #d4ebff;}#sk-container-id-3 input.sk-hidden--visually {border: 0;clip: rect(1px 1px 1px 1px);clip: rect(1px, 1px, 1px, 1px);height: 1px;margin: -1px;overflow: hidden;padding: 0;position: absolute;width: 1px;}#sk-container-id-3 div.sk-estimator {font-family: monospace;background-color: #f0f8ff;border: 1px dotted black;border-radius: 0.25em;box-sizing: border-box;margin-bottom: 0.5em;}#sk-container-id-3 div.sk-estimator:hover {background-color: #d4ebff;}#sk-container-id-3 div.sk-parallel-item::after {content: \"\";width: 100%;border-bottom: 1px solid gray;flex-grow: 1;}#sk-container-id-3 div.sk-label:hover label.sk-toggleable__label {background-color: #d4ebff;}#sk-container-id-3 div.sk-serial::before {content: \"\";position: absolute;border-left: 1px solid gray;box-sizing: border-box;top: 0;bottom: 0;left: 50%;z-index: 0;}#sk-container-id-3 div.sk-serial {display: flex;flex-direction: column;align-items: center;background-color: white;padding-right: 0.2em;padding-left: 0.2em;position: relative;}#sk-container-id-3 div.sk-item {position: relative;z-index: 1;}#sk-container-id-3 div.sk-parallel {display: flex;align-items: stretch;justify-content: center;background-color: white;position: relative;}#sk-container-id-3 div.sk-item::before, #sk-container-id-3 div.sk-parallel-item::before {content: \"\";position: absolute;border-left: 1px solid gray;box-sizing: border-box;top: 0;bottom: 0;left: 50%;z-index: -1;}#sk-container-id-3 div.sk-parallel-item {display: flex;flex-direction: column;z-index: 1;position: relative;background-color: white;}#sk-container-id-3 div.sk-parallel-item:first-child::after {align-self: flex-end;width: 50%;}#sk-container-id-3 div.sk-parallel-item:last-child::after {align-self: flex-start;width: 50%;}#sk-container-id-3 div.sk-parallel-item:only-child::after {width: 0;}#sk-container-id-3 div.sk-dashed-wrapped {border: 1px dashed gray;margin: 0 0.4em 0.5em 0.4em;box-sizing: border-box;padding-bottom: 0.4em;background-color: white;}#sk-container-id-3 div.sk-label label {font-family: monospace;font-weight: bold;display: inline-block;line-height: 1.2em;}#sk-container-id-3 div.sk-label-container {text-align: center;}#sk-container-id-3 div.sk-container {/* jupyter's `normalize.less` sets `[hidden] { display: none; }` but bootstrap.min.css set `[hidden] { display: none !important; }` so we also need the `!important` here to be able to override the default hidden behavior on the sphinx rendered scikit-learn.org. See: https://github.com/scikit-learn/scikit-learn/issues/21755 */display: inline-block !important;position: relative;}#sk-container-id-3 div.sk-text-repr-fallback {display: none;}</style><div id=\"sk-container-id-3\" class=\"sk-top-container\"><div class=\"sk-text-repr-fallback\"><pre>RandomForestClassifier(n_estimators=250, n_jobs=50, random_state=1,\n",
       "                       verbose=True)</pre><b>In a Jupyter environment, please rerun this cell to show the HTML representation or trust the notebook. <br />On GitHub, the HTML representation is unable to render, please try loading this page with nbviewer.org.</b></div><div class=\"sk-container\" hidden><div class=\"sk-item\"><div class=\"sk-estimator sk-toggleable\"><input class=\"sk-toggleable__control sk-hidden--visually\" id=\"sk-estimator-id-3\" type=\"checkbox\" checked><label for=\"sk-estimator-id-3\" class=\"sk-toggleable__label sk-toggleable__label-arrow\">RandomForestClassifier</label><div class=\"sk-toggleable__content\"><pre>RandomForestClassifier(n_estimators=250, n_jobs=50, random_state=1,\n",
       "                       verbose=True)</pre></div></div></div></div></div>"
      ],
      "text/plain": [
       "RandomForestClassifier(n_estimators=250, n_jobs=50, random_state=1,\n",
       "                       verbose=True)"
      ]
     },
     "execution_count": 10,
     "metadata": {},
     "output_type": "execute_result"
    }
   ],
   "source": [
    "from sklearn.ensemble import RandomForestClassifier\n",
    " \n",
    "forest = RandomForestClassifier(n_estimators=250, n_jobs=50, random_state=1, verbose=True)\n",
    "#\n",
    "# Train the mode\n",
    "#\n",
    "forest.fit(X_train, y_train.values.ravel())"
   ]
  },
  {
   "cell_type": "code",
   "execution_count": 11,
   "id": "8fbca79a",
   "metadata": {},
   "outputs": [
    {
     "name": "stderr",
     "output_type": "stream",
     "text": [
      "[Parallel(n_jobs=50)]: Using backend ThreadingBackend with 50 concurrent workers.\n",
      "[Parallel(n_jobs=50)]: Done 100 tasks      | elapsed:    0.5s\n"
     ]
    },
    {
     "name": "stdout",
     "output_type": "stream",
     "text": [
      "accuracy: 0.9869067707429466\n",
      "f1_score: 0.30031570639305444\n"
     ]
    },
    {
     "name": "stderr",
     "output_type": "stream",
     "text": [
      "[Parallel(n_jobs=50)]: Done 250 out of 250 | elapsed:    1.2s finished\n"
     ]
    }
   ],
   "source": [
    "from sklearn.metrics import confusion_matrix, f1_score, accuracy_score\n",
    "\n",
    "prediction = forest.predict(X_test)\n",
    "confusion_matrix(y_test, prediction)\n",
    "# Display accuracy score\n",
    "accuracy = accuracy_score(y_test, prediction)\n",
    "# Display F1 score\n",
    "f1_score = f1_score(y_test, prediction)\n",
    "print(f\"accuracy: {accuracy}\") \n",
    "print(f\"f1_score: {f1_score}\") "
   ]
  },
  {
   "cell_type": "code",
   "execution_count": 12,
   "id": "e9cfc9bf-fe38-4a8a-9d21-1c3955a286b7",
   "metadata": {},
   "outputs": [
    {
     "name": "stdout",
     "output_type": "stream",
     "text": [
      " 1) totals_pageviews               0.263584\n",
      " 2) totals_hits                    0.254350\n",
      " 3) weekday                        0.097415\n",
      " 4) visitNumber                    0.064774\n",
      " 5) geoNetwork_networkDomain       0.057273\n",
      " 6) geoNetwork_city                0.017239\n",
      " 7) device_operatingSystem         0.011241\n",
      " 8) geoNetwork_metro               0.010767\n",
      " 9) trafficSource_isTrueDirect     0.010330\n",
      "10) geoNetwork_region              0.009831\n",
      "11) geoNetwork_networkDomain_comcast.net 0.008407\n",
      "12) trafficSource_source_mall.googleplex.com 0.008013\n",
      "13) totals_newVisits               0.007862\n",
      "14) device_operatingSystem_Macintosh 0.007611\n",
      "15) geoNetwork_country             0.006828\n",
      "16) trafficSource_source           0.006489\n",
      "17) geoNetwork_country_United States 0.006224\n",
      "18) totals_bounces                 0.005249\n",
      "19) geoNetwork_subContinent_Northern America 0.005209\n",
      "20) device_operatingSystem_Windows 0.005105\n",
      "21) geoNetwork_networkDomain_verizon.net 0.005081\n",
      "22) geoNetwork_networkDomain_rr.com 0.004890\n",
      "23) device_browser                 0.004780\n",
      "24) geoNetwork_continent_Americas  0.004216\n",
      "25) channelGrouping_Referral       0.003931\n",
      "26) device_operatingSystem_Chrome OS 0.003849\n",
      "27) device_operatingSystem_Linux   0.003779\n",
      "28) device_browser_Chrome          0.003660\n",
      "29) geoNetwork_networkDomain_comcastbusiness.net 0.003499\n",
      "30) geoNetwork_city_San Francisco  0.003492\n",
      "31) geoNetwork_city_Mountain View  0.003243\n",
      "32) trafficSource_referralPath     0.002985\n",
      "33) geoNetwork_region_California   0.002940\n",
      "34) geoNetwork_metro_San Francisco-Oakland-San Jose CA 0.002885\n",
      "35) geoNetwork_networkDomain_cox.net 0.002667\n",
      "36) geoNetwork_networkDomain_sbcglobal.net 0.002650\n",
      "37) geoNetwork_city_Sunnyvale      0.002564\n",
      "38) trafficSource_medium_referral  0.002223\n",
      "39) device_deviceCategory_mobile   0.002206\n",
      "40) device_browser_Safari          0.002173\n",
      "41) trafficSource_source_google    0.002074\n",
      "42) channelGrouping_Organic Search 0.001993\n",
      "43) device_isMobile                0.001991\n",
      "44) trafficSource_keyword          0.001983\n",
      "45) geoNetwork_city_San Jose       0.001883\n",
      "46) trafficSource_medium_organic   0.001824\n",
      "47) device_deviceCategory_desktop  0.001800\n",
      "48) geoNetwork_region_New York     0.001701\n",
      "49) device_browser_Firefox         0.001651\n",
      "50) geoNetwork_metro_New York NY   0.001520\n",
      "51) geoNetwork_city_New York       0.001456\n",
      "52) trafficSource_medium_@         0.001401\n",
      "53) channelGrouping_Direct         0.001328\n",
      "54) trafficSource_source_(direct)  0.001325\n",
      "55) device_operatingSystem_Android 0.001282\n",
      "56) geoNetwork_metro_Los Angeles CA 0.001263\n",
      "57) geoNetwork_city_San Bruno      0.001254\n",
      "58) geoNetwork_region_Texas        0.001210\n",
      "59) geoNetwork_city_Los Angeles    0.001182\n",
      "60) geoNetwork_continent_Europe    0.001147\n",
      "61) geoNetwork_city_Santa Clara    0.001109\n",
      "62) device_operatingSystem_iOS     0.001097\n",
      "63) device_deviceCategory_tablet   0.001064\n",
      "64) device_browser_Internet Explorer 0.001058\n",
      "65) geoNetwork_metro_Chicago IL    0.001045\n",
      "66) geoNetwork_city_Chicago        0.001018\n",
      "67) geoNetwork_continent_Asia      0.000999\n",
      "68) geoNetwork_region_Washington   0.000999\n",
      "69) geoNetwork_region_Illinois     0.000991\n",
      "70) trafficSource_campaign         0.000982\n",
      "71) geoNetwork_metro_Seattle-Tacoma WA 0.000944\n",
      "72) geoNetwork_city_Austin         0.000933\n",
      "73) geoNetwork_country_Canada      0.000926\n",
      "74) geoNetwork_city_Seattle        0.000901\n",
      "75) channelGrouping_Social         0.000890\n",
      "76) trafficSource_keyword_6qEhsCssdK0z36ri 0.000764\n",
      "77) geoNetwork_region_Michigan     0.000721\n",
      "78) geoNetwork_region_Massachusetts 0.000699\n",
      "79) geoNetwork_city_Ann Arbor      0.000650\n",
      "80) geoNetwork_city_Kirkland       0.000635\n",
      "81) trafficSource_adContent        0.000635\n",
      "82) geoNetwork_region_District of Columbia 0.000626\n",
      "83) trafficSource_campaign_AW - Dynamic Search Ads Whole Site 0.000617\n",
      "84) geoNetwork_city_Washington     0.000613\n",
      "85) geoNetwork_city_Atlanta        0.000598\n",
      "86) channelGrouping_Display        0.000596\n",
      "87) geoNetwork_region_Georgia      0.000595\n",
      "88) trafficSource_medium_cpm       0.000589\n",
      "89) geoNetwork_city_Cambridge      0.000573\n",
      "90) trafficSource_adwordsClickInfo.slot_Top 0.000573\n",
      "91) channelGrouping_Paid Search    0.000570\n",
      "92) trafficSource_adwordsClickInfo.page 0.000542\n",
      "93) trafficSource_adwordsClickInfo.adNetworkType_@ 0.000541\n",
      "94) geoNetwork_city_Houston        0.000531\n",
      "95) trafficSource_source_dfa       0.000516\n",
      "96) device_browser_Edge            0.000491\n",
      "97) trafficSource_keyword_1hZbAqLCbjwfgOH7 0.000477\n",
      "98) geoNetwork_city_Toronto        0.000472\n",
      "99) geoNetwork_subContinent_Eastern Asia 0.000463\n",
      "100) trafficSource_source_dealspotr.com 0.000456\n",
      "101) geoNetwork_subContinent_South America 0.000419\n",
      "102) trafficSource_keyword_google merchandise store 0.000405\n",
      "103) geoNetwork_country_Venezuela   0.000404\n",
      "104) geoNetwork_city_Salem          0.000403\n",
      "105) trafficSource_source_mail.google.com 0.000393\n",
      "106) trafficSource_referralPath_/mail/u/0/ 0.000374\n",
      "107) trafficSource_source_sites.google.com 0.000351\n",
      "108) trafficSource_adContent_Google Merchandise Collection 0.000349\n",
      "109) trafficSource_source_youtube.com 0.000341\n",
      "110) trafficSource_campaign_AW - Accessories 0.000337\n",
      "111) trafficSource_keyword_Google Merchandise 0.000310\n",
      "112) trafficSource_source_bing      0.000309\n",
      "113) trafficSource_referralPath_/a/google.com/forum/ 0.000297\n",
      "114) trafficSource_source_yahoo     0.000284\n",
      "115) geoNetwork_subContinent_Northern Europe 0.000259\n",
      "116) geoNetwork_subContinent_Central America 0.000248\n",
      "117) trafficSource_source_groups.google.com 0.000239\n",
      "118) trafficSource_referralPath_/google-merchandise-store 0.000229\n",
      "119) trafficSource_referralPath_/offer/2145 0.000200\n",
      "120) geoNetwork_subContinent_Caribbean 0.000199\n",
      "121) trafficSource_source_l.facebook.com 0.000184\n",
      "122) geoNetwork_subContinent_Western Asia 0.000183\n",
      "123) channelGrouping_Affiliates     0.000171\n",
      "124) trafficSource_referralPath_/yt/about/ 0.000153\n",
      "125) trafficSource_source_analytics.google.com 0.000142\n",
      "126) trafficSource_referralPath_/analytics/web/ 0.000130\n",
      "127) geoNetwork_country_Brazil      0.000099\n",
      "128) trafficSource_keyword_(Remarketing/Content targeting) 0.000098\n",
      "129) trafficSource_source_t.co      0.000082\n",
      "130) geoNetwork_subContinent_@      0.000060\n",
      "131) geoNetwork_continent_@         0.000058\n",
      "132) trafficSource_referralPath_/yt/about/es-419/ 0.000006\n",
      "133) trafficSource_referralPath_/yt/about/pt-BR/ 0.000000\n",
      "134) trafficSource_referralPath_/yt/about/tr/ 0.000000\n"
     ]
    }
   ],
   "source": [
    "import numpy as np\n",
    " \n",
    "importances = forest.feature_importances_\n",
    "#\n",
    "# Sort the feature importance in descending order\n",
    "#\n",
    "sorted_indices = np.argsort(importances)[::-1]\n",
    " \n",
    "feat_labels = visitor_dataframe.drop(columns=[\"positive_revenue\", \"totals_transaction_revenue\"]).columns\n",
    " \n",
    "for f in range(X_train.shape[1]):\n",
    "    print(\"%2d) %-*s %f\" % (f + 1, 30,\n",
    "                            feat_labels[sorted_indices[f]],\n",
    "                            importances[sorted_indices[f]]))"
   ]
  },
  {
   "cell_type": "code",
   "execution_count": 8,
   "id": "43b35a27-ebb0-4a0f-9f28-c774dfcd97d1",
   "metadata": {},
   "outputs": [
    {
     "name": "stderr",
     "output_type": "stream",
     "text": [
      "[Parallel(n_jobs=5)]: Using backend ThreadingBackend with 5 concurrent workers.\n",
      "[Parallel(n_jobs=5)]: Done  40 tasks      | elapsed:    0.2s\n"
     ]
    },
    {
     "name": "stdout",
     "output_type": "stream",
     "text": [
      "accuracy: 0.9868587696204588\n",
      "f1_score: 0.296223057148507\n"
     ]
    },
    {
     "name": "stderr",
     "output_type": "stream",
     "text": [
      "[Parallel(n_jobs=5)]: Done 100 out of 100 | elapsed:    0.6s finished\n"
     ]
    }
   ],
   "source": []
  },
  {
   "cell_type": "markdown",
   "id": "7f5f4ff9-f125-455b-999a-847b8fdadcef",
   "metadata": {},
   "source": [
    "## Demographics"
   ]
  },
  {
   "cell_type": "code",
   "execution_count": null,
   "id": "de140cdd-3d92-46ff-9e69-299d2f716242",
   "metadata": {},
   "outputs": [],
   "source": [
    "X_train[0]"
   ]
  },
  {
   "cell_type": "code",
   "execution_count": null,
   "id": "3303db53-6e2b-4cd6-a914-d17a62a333c0",
   "metadata": {},
   "outputs": [],
   "source": [
    "sub_set_feature_names = [\n",
    "    \"geoNetwork_subContinent_@\",\n",
    "    \"geoNetwork_subContinent_Caribbean\",\n",
    "    \"geoNetwork_subContinent_Central America\",\n",
    "    \"geoNetwork_subContinent_Eastern Asia\",\n",
    "    \"geoNetwork_subContinent_Northern America\",\n",
    "    \"geoNetwork_subContinent_Northern Europe\",\n",
    "    \"geoNetwork_subContinent_South America\",\n",
    "    \"geoNetwork_subContinent_Western Asia\",\n",
    "    \"positive_revenue\"\n",
    "]\n",
    "\n",
    "visitor_dataframe = get_visitor_dataframe(X_train, y_train, feature_names)\n",
    "visitor_dataframe = add_positive_revenue_column(visitor_dataframe)\n",
    "\n",
    "paying_demographic_dataframe = visitor_dataframe[sub_set_feature_names]\n",
    "paying_demographic_dataframe"
   ]
  },
  {
   "cell_type": "code",
   "execution_count": null,
   "id": "bf5cd9e4-cbcb-4559-82a6-4b08f60e8eb9",
   "metadata": {},
   "outputs": [],
   "source": [
    "paying_demographic_dataframe[paying_demographic_dataframe[\"positive_revenue\"] == 1]"
   ]
  },
  {
   "cell_type": "code",
   "execution_count": null,
   "id": "049e8a08-4c2d-4565-94e9-d1c02847e7e8",
   "metadata": {},
   "outputs": [],
   "source": []
  }
 ],
 "metadata": {
  "kernelspec": {
   "display_name": "Python 3 (ipykernel)",
   "language": "python",
   "name": "python3"
  },
  "language_info": {
   "codemirror_mode": {
    "name": "ipython",
    "version": 3
   },
   "file_extension": ".py",
   "mimetype": "text/x-python",
   "name": "python",
   "nbconvert_exporter": "python",
   "pygments_lexer": "ipython3",
   "version": "3.10.8"
  },
  "vscode": {
   "interpreter": {
    "hash": "997910d508f0893d0dea8704f09f63e44fe0b217d66401d81af70229b3dfce4e"
   }
  }
 },
 "nbformat": 4,
 "nbformat_minor": 5
}
