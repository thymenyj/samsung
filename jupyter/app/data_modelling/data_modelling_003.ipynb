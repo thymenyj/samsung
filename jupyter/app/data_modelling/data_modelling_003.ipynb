{
 "cells": [
  {
   "cell_type": "code",
   "execution_count": 1,
   "id": "7db74343-980f-41d4-86f0-283535867ca6",
   "metadata": {},
   "outputs": [],
   "source": [
    "from pandas import read_pickle, DataFrame\n",
    "from sklearn.model_selection import train_test_split"
   ]
  },
  {
   "cell_type": "code",
   "execution_count": 2,
   "id": "9f707f6d-f6e7-4393-a9c4-bda60548909d",
   "metadata": {},
   "outputs": [],
   "source": [
    "data = read_pickle(\"../data/data_all_features.pkl\")\n",
    "\n",
    "X_train = data.get(\"X_train\")\n",
    "y_train = data.get(\"y_train\")\n",
    "X_test = data.get(\"X_test\")\n",
    "feature_names = data.get(\"feature_names\")\n",
    "categorical = data.get(\"categorical\")\n",
    "numerical = data.get(\"numerical\")\n",
    "id_numeration_train = data.get(\"id_numeration_train\")\n",
    "id_numeration_test = data.get(\"id_numeration_test\")"
   ]
  },
  {
   "cell_type": "code",
   "execution_count": 3,
   "id": "9291364d-de90-418a-aa9c-5b8117eee91c",
   "metadata": {},
   "outputs": [],
   "source": [
    "def get_visitor_dataframe(X_train, y_train, feature_names):\n",
    "    visitor_dataframe = DataFrame(columns=feature_names, data=X_train)\n",
    "    visitor_dataframe[\"totals_transaction_revenue\"] = y_train\n",
    "    return visitor_dataframe\n",
    "\n",
    "def add_positive_revenue_column(visitor_dataframe):\n",
    "    visitor_dataframe[\"positive_revenue\"] = visitor_dataframe[\"totals_transaction_revenue\"] > 0\n",
    "    visitor_dataframe[\"positive_revenue\"] = visitor_dataframe[\"positive_revenue\"].astype(\"float\")\n",
    "    return visitor_dataframe"
   ]
  },
  {
   "cell_type": "code",
   "execution_count": 4,
   "id": "78df9cbf-8163-4321-8b45-0942687cf436",
   "metadata": {},
   "outputs": [],
   "source": [
    "visitor_dataframe = get_visitor_dataframe(X_train, y_train, feature_names)\n",
    "visitor_dataframe = add_positive_revenue_column(visitor_dataframe)"
   ]
  },
  {
   "cell_type": "code",
   "execution_count": 5,
   "id": "9f2a8582-f361-4ef9-9da8-56756b6cfd03",
   "metadata": {},
   "outputs": [],
   "source": [
    "X_train, X_test, y_train, y_test = train_test_split(\n",
    "    visitor_dataframe.drop(columns=[\"positive_revenue\", \"totals_transaction_revenue\"]), \n",
    "    visitor_dataframe[\"positive_revenue\"], \n",
    "    test_size = 0.3,\n",
    "    random_state=1\n",
    ")"
   ]
  },
  {
   "cell_type": "code",
   "execution_count": 6,
   "id": "0267ce6a-6f3b-4b30-bb77-951e4df7df41",
   "metadata": {},
   "outputs": [
    {
     "name": "stderr",
     "output_type": "stream",
     "text": [
      "[Parallel(n_jobs=5)]: Using backend ThreadingBackend with 5 concurrent workers.\n",
      "[Parallel(n_jobs=5)]: Done  40 tasks      | elapsed:    9.9s\n",
      "[Parallel(n_jobs=5)]: Done 100 out of 100 | elapsed:   24.5s finished\n"
     ]
    },
    {
     "data": {
      "text/html": [
       "<style>#sk-container-id-1 {color: black;background-color: white;}#sk-container-id-1 pre{padding: 0;}#sk-container-id-1 div.sk-toggleable {background-color: white;}#sk-container-id-1 label.sk-toggleable__label {cursor: pointer;display: block;width: 100%;margin-bottom: 0;padding: 0.3em;box-sizing: border-box;text-align: center;}#sk-container-id-1 label.sk-toggleable__label-arrow:before {content: \"▸\";float: left;margin-right: 0.25em;color: #696969;}#sk-container-id-1 label.sk-toggleable__label-arrow:hover:before {color: black;}#sk-container-id-1 div.sk-estimator:hover label.sk-toggleable__label-arrow:before {color: black;}#sk-container-id-1 div.sk-toggleable__content {max-height: 0;max-width: 0;overflow: hidden;text-align: left;background-color: #f0f8ff;}#sk-container-id-1 div.sk-toggleable__content pre {margin: 0.2em;color: black;border-radius: 0.25em;background-color: #f0f8ff;}#sk-container-id-1 input.sk-toggleable__control:checked~div.sk-toggleable__content {max-height: 200px;max-width: 100%;overflow: auto;}#sk-container-id-1 input.sk-toggleable__control:checked~label.sk-toggleable__label-arrow:before {content: \"▾\";}#sk-container-id-1 div.sk-estimator input.sk-toggleable__control:checked~label.sk-toggleable__label {background-color: #d4ebff;}#sk-container-id-1 div.sk-label input.sk-toggleable__control:checked~label.sk-toggleable__label {background-color: #d4ebff;}#sk-container-id-1 input.sk-hidden--visually {border: 0;clip: rect(1px 1px 1px 1px);clip: rect(1px, 1px, 1px, 1px);height: 1px;margin: -1px;overflow: hidden;padding: 0;position: absolute;width: 1px;}#sk-container-id-1 div.sk-estimator {font-family: monospace;background-color: #f0f8ff;border: 1px dotted black;border-radius: 0.25em;box-sizing: border-box;margin-bottom: 0.5em;}#sk-container-id-1 div.sk-estimator:hover {background-color: #d4ebff;}#sk-container-id-1 div.sk-parallel-item::after {content: \"\";width: 100%;border-bottom: 1px solid gray;flex-grow: 1;}#sk-container-id-1 div.sk-label:hover label.sk-toggleable__label {background-color: #d4ebff;}#sk-container-id-1 div.sk-serial::before {content: \"\";position: absolute;border-left: 1px solid gray;box-sizing: border-box;top: 0;bottom: 0;left: 50%;z-index: 0;}#sk-container-id-1 div.sk-serial {display: flex;flex-direction: column;align-items: center;background-color: white;padding-right: 0.2em;padding-left: 0.2em;position: relative;}#sk-container-id-1 div.sk-item {position: relative;z-index: 1;}#sk-container-id-1 div.sk-parallel {display: flex;align-items: stretch;justify-content: center;background-color: white;position: relative;}#sk-container-id-1 div.sk-item::before, #sk-container-id-1 div.sk-parallel-item::before {content: \"\";position: absolute;border-left: 1px solid gray;box-sizing: border-box;top: 0;bottom: 0;left: 50%;z-index: -1;}#sk-container-id-1 div.sk-parallel-item {display: flex;flex-direction: column;z-index: 1;position: relative;background-color: white;}#sk-container-id-1 div.sk-parallel-item:first-child::after {align-self: flex-end;width: 50%;}#sk-container-id-1 div.sk-parallel-item:last-child::after {align-self: flex-start;width: 50%;}#sk-container-id-1 div.sk-parallel-item:only-child::after {width: 0;}#sk-container-id-1 div.sk-dashed-wrapped {border: 1px dashed gray;margin: 0 0.4em 0.5em 0.4em;box-sizing: border-box;padding-bottom: 0.4em;background-color: white;}#sk-container-id-1 div.sk-label label {font-family: monospace;font-weight: bold;display: inline-block;line-height: 1.2em;}#sk-container-id-1 div.sk-label-container {text-align: center;}#sk-container-id-1 div.sk-container {/* jupyter's `normalize.less` sets `[hidden] { display: none; }` but bootstrap.min.css set `[hidden] { display: none !important; }` so we also need the `!important` here to be able to override the default hidden behavior on the sphinx rendered scikit-learn.org. See: https://github.com/scikit-learn/scikit-learn/issues/21755 */display: inline-block !important;position: relative;}#sk-container-id-1 div.sk-text-repr-fallback {display: none;}</style><div id=\"sk-container-id-1\" class=\"sk-top-container\"><div class=\"sk-text-repr-fallback\"><pre>RandomForestClassifier(n_jobs=5, random_state=1, verbose=True)</pre><b>In a Jupyter environment, please rerun this cell to show the HTML representation or trust the notebook. <br />On GitHub, the HTML representation is unable to render, please try loading this page with nbviewer.org.</b></div><div class=\"sk-container\" hidden><div class=\"sk-item\"><div class=\"sk-estimator sk-toggleable\"><input class=\"sk-toggleable__control sk-hidden--visually\" id=\"sk-estimator-id-1\" type=\"checkbox\" checked><label for=\"sk-estimator-id-1\" class=\"sk-toggleable__label sk-toggleable__label-arrow\">RandomForestClassifier</label><div class=\"sk-toggleable__content\"><pre>RandomForestClassifier(n_jobs=5, random_state=1, verbose=True)</pre></div></div></div></div></div>"
      ],
      "text/plain": [
       "RandomForestClassifier(n_jobs=5, random_state=1, verbose=True)"
      ]
     },
     "execution_count": 6,
     "metadata": {},
     "output_type": "execute_result"
    }
   ],
   "source": [
    "from sklearn.ensemble import RandomForestClassifier\n",
    " \n",
    "forest = RandomForestClassifier(n_estimators=100, n_jobs=5, random_state=1, verbose=True)\n",
    "#\n",
    "# Train the mode\n",
    "#\n",
    "forest.fit(X_train, y_train.values.ravel())"
   ]
  },
  {
   "cell_type": "code",
   "execution_count": 7,
   "id": "e9cfc9bf-fe38-4a8a-9d21-1c3955a286b7",
   "metadata": {},
   "outputs": [
    {
     "name": "stdout",
     "output_type": "stream",
     "text": [
      " 1) totals_pageviews               0.265479\n",
      " 2) totals_hits                    0.254000\n",
      " 3) weekday                        0.097245\n",
      " 4) visitNumber                    0.064545\n",
      " 5) geoNetwork_networkDomain       0.057359\n",
      " 6) geoNetwork_city                0.017221\n",
      " 7) device_operatingSystem         0.011426\n",
      " 8) geoNetwork_metro               0.010475\n",
      " 9) trafficSource_isTrueDirect     0.010018\n",
      "10) geoNetwork_region              0.009680\n",
      "11) geoNetwork_networkDomain_comcast.net 0.008500\n",
      "12) trafficSource_source_mall.googleplex.com 0.008196\n",
      "13) totals_newVisits               0.008058\n",
      "14) device_operatingSystem_Macintosh 0.007464\n",
      "15) geoNetwork_country             0.006430\n",
      "16) trafficSource_source           0.006348\n",
      "17) totals_bounces                 0.005768\n",
      "18) geoNetwork_country_United States 0.005432\n",
      "19) geoNetwork_networkDomain_verizon.net 0.005044\n",
      "20) device_operatingSystem_Windows 0.005018\n",
      "21) geoNetwork_subContinent_Northern America 0.004955\n",
      "22) geoNetwork_networkDomain_rr.com 0.004905\n",
      "23) geoNetwork_continent_Americas  0.004728\n",
      "24) device_browser                 0.004693\n",
      "25) device_operatingSystem_Linux   0.003854\n",
      "26) device_operatingSystem_Chrome OS 0.003815\n",
      "27) device_browser_Chrome          0.003600\n",
      "28) geoNetwork_networkDomain_comcastbusiness.net 0.003569\n",
      "29) geoNetwork_city_San Francisco  0.003529\n",
      "30) channelGrouping_Referral       0.003519\n",
      "31) geoNetwork_city_Mountain View  0.003426\n",
      "32) geoNetwork_region_California   0.003166\n",
      "33) trafficSource_referralPath     0.002857\n",
      "34) geoNetwork_metro_San Francisco-Oakland-San Jose CA 0.002829\n",
      "35) geoNetwork_networkDomain_sbcglobal.net 0.002656\n",
      "36) geoNetwork_networkDomain_cox.net 0.002604\n",
      "37) geoNetwork_city_Sunnyvale      0.002579\n",
      "38) device_deviceCategory_mobile   0.002334\n",
      "39) trafficSource_medium_referral  0.002297\n",
      "40) device_browser_Safari          0.002074\n",
      "41) trafficSource_keyword          0.002043\n",
      "42) channelGrouping_Organic Search 0.002001\n",
      "43) device_deviceCategory_desktop  0.001954\n",
      "44) trafficSource_medium_organic   0.001888\n",
      "45) geoNetwork_city_San Jose       0.001836\n",
      "46) trafficSource_source_google    0.001792\n",
      "47) geoNetwork_region_New York     0.001743\n",
      "48) device_isMobile                0.001678\n",
      "49) device_browser_Firefox         0.001588\n",
      "50) geoNetwork_metro_New York NY   0.001550\n",
      "51) geoNetwork_city_New York       0.001446\n",
      "52) channelGrouping_Direct         0.001399\n",
      "53) trafficSource_source_(direct)  0.001362\n",
      "54) trafficSource_medium_@         0.001362\n",
      "55) device_operatingSystem_Android 0.001292\n",
      "56) geoNetwork_metro_Los Angeles CA 0.001268\n",
      "57) geoNetwork_city_San Bruno      0.001264\n",
      "58) geoNetwork_region_Texas        0.001192\n",
      "59) geoNetwork_city_Los Angeles    0.001188\n",
      "60) geoNetwork_metro_Chicago IL    0.001167\n",
      "61) geoNetwork_city_Santa Clara    0.001111\n",
      "62) device_deviceCategory_tablet   0.001080\n",
      "63) device_operatingSystem_iOS     0.001079\n",
      "64) geoNetwork_region_Washington   0.001040\n",
      "65) device_browser_Internet Explorer 0.001034\n",
      "66) geoNetwork_city_Chicago        0.001030\n",
      "67) geoNetwork_continent_Asia      0.001012\n",
      "68) trafficSource_campaign         0.000983\n",
      "69) geoNetwork_continent_Europe    0.000977\n",
      "70) geoNetwork_region_Illinois     0.000970\n",
      "71) geoNetwork_city_Austin         0.000966\n",
      "72) geoNetwork_metro_Seattle-Tacoma WA 0.000939\n",
      "73) geoNetwork_city_Seattle        0.000915\n",
      "74) geoNetwork_country_Canada      0.000912\n",
      "75) channelGrouping_Social         0.000873\n",
      "76) trafficSource_keyword_6qEhsCssdK0z36ri 0.000731\n",
      "77) geoNetwork_region_Michigan     0.000728\n",
      "78) geoNetwork_region_District of Columbia 0.000695\n",
      "79) geoNetwork_region_Massachusetts 0.000674\n",
      "80) geoNetwork_city_Ann Arbor      0.000666\n",
      "81) trafficSource_adContent        0.000645\n",
      "82) geoNetwork_city_Kirkland       0.000640\n",
      "83) geoNetwork_city_Washington     0.000614\n",
      "84) geoNetwork_city_Cambridge      0.000601\n",
      "85) trafficSource_campaign_AW - Dynamic Search Ads Whole Site 0.000588\n",
      "86) trafficSource_medium_cpm       0.000578\n",
      "87) channelGrouping_Display        0.000578\n",
      "88) geoNetwork_region_Georgia      0.000570\n",
      "89) geoNetwork_city_Atlanta        0.000570\n",
      "90) channelGrouping_Paid Search    0.000566\n",
      "91) trafficSource_adwordsClickInfo.slot_Top 0.000563\n",
      "92) trafficSource_adwordsClickInfo.page 0.000558\n",
      "93) trafficSource_source_dfa       0.000555\n",
      "94) geoNetwork_city_Houston        0.000552\n",
      "95) trafficSource_adwordsClickInfo.adNetworkType_@ 0.000523\n",
      "96) device_browser_Edge            0.000502\n",
      "97) geoNetwork_subContinent_Eastern Asia 0.000487\n",
      "98) trafficSource_keyword_1hZbAqLCbjwfgOH7 0.000470\n",
      "99) trafficSource_source_dealspotr.com 0.000444\n",
      "100) geoNetwork_city_Toronto        0.000425\n",
      "101) geoNetwork_subContinent_South America 0.000417\n",
      "102) trafficSource_source_youtube.com 0.000410\n",
      "103) trafficSource_source_mail.google.com 0.000410\n",
      "104) trafficSource_keyword_google merchandise store 0.000403\n",
      "105) geoNetwork_city_Salem          0.000403\n",
      "106) trafficSource_referralPath_/mail/u/0/ 0.000359\n",
      "107) trafficSource_source_sites.google.com 0.000356\n",
      "108) trafficSource_adContent_Google Merchandise Collection 0.000354\n",
      "109) trafficSource_campaign_AW - Accessories 0.000354\n",
      "110) geoNetwork_country_Venezuela   0.000353\n",
      "111) trafficSource_referralPath_/a/google.com/forum/ 0.000325\n",
      "112) trafficSource_source_yahoo     0.000307\n",
      "113) trafficSource_source_bing      0.000300\n",
      "114) geoNetwork_subContinent_Central America 0.000277\n",
      "115) trafficSource_keyword_Google Merchandise 0.000275\n",
      "116) geoNetwork_subContinent_Northern Europe 0.000263\n",
      "117) trafficSource_source_groups.google.com 0.000253\n",
      "118) trafficSource_referralPath_/google-merchandise-store 0.000240\n",
      "119) geoNetwork_subContinent_Caribbean 0.000212\n",
      "120) geoNetwork_subContinent_Western Asia 0.000195\n",
      "121) trafficSource_referralPath_/offer/2145 0.000190\n",
      "122) trafficSource_source_l.facebook.com 0.000187\n",
      "123) channelGrouping_Affiliates     0.000181\n",
      "124) trafficSource_source_analytics.google.com 0.000147\n",
      "125) trafficSource_referralPath_/yt/about/ 0.000143\n",
      "126) trafficSource_referralPath_/analytics/web/ 0.000119\n",
      "127) geoNetwork_country_Brazil      0.000102\n",
      "128) trafficSource_keyword_(Remarketing/Content targeting) 0.000095\n",
      "129) trafficSource_source_t.co      0.000086\n",
      "130) geoNetwork_continent_@         0.000067\n",
      "131) geoNetwork_subContinent_@      0.000049\n",
      "132) trafficSource_referralPath_/yt/about/es-419/ 0.000013\n",
      "133) trafficSource_referralPath_/yt/about/tr/ 0.000000\n",
      "134) trafficSource_referralPath_/yt/about/pt-BR/ 0.000000\n"
     ]
    }
   ],
   "source": [
    "import numpy as np\n",
    " \n",
    "importances = forest.feature_importances_\n",
    "#\n",
    "# Sort the feature importance in descending order\n",
    "#\n",
    "sorted_indices = np.argsort(importances)[::-1]\n",
    " \n",
    "feat_labels = visitor_dataframe.drop(columns=[\"positive_revenue\", \"totals_transaction_revenue\"]).columns\n",
    " \n",
    "for f in range(X_train.shape[1]):\n",
    "    print(\"%2d) %-*s %f\" % (f + 1, 30,\n",
    "                            feat_labels[sorted_indices[f]],\n",
    "                            importances[sorted_indices[f]]))"
   ]
  },
  {
   "cell_type": "code",
   "execution_count": 8,
   "id": "43b35a27-ebb0-4a0f-9f28-c774dfcd97d1",
   "metadata": {},
   "outputs": [
    {
     "name": "stderr",
     "output_type": "stream",
     "text": [
      "[Parallel(n_jobs=5)]: Using backend ThreadingBackend with 5 concurrent workers.\n",
      "[Parallel(n_jobs=5)]: Done  40 tasks      | elapsed:    0.2s\n"
     ]
    },
    {
     "name": "stdout",
     "output_type": "stream",
     "text": [
      "accuracy: 0.9868587696204588\n",
      "f1_score: 0.296223057148507\n"
     ]
    },
    {
     "name": "stderr",
     "output_type": "stream",
     "text": [
      "[Parallel(n_jobs=5)]: Done 100 out of 100 | elapsed:    0.6s finished\n"
     ]
    }
   ],
   "source": [
    "from sklearn.metrics import confusion_matrix, f1_score, accuracy_score\n",
    "\n",
    "prediction = forest.predict(X_test)\n",
    "confusion_matrix(y_test, prediction)\n",
    "# Display accuracy score\n",
    "accuracy = accuracy_score(y_test, prediction)\n",
    "# Display F1 score\n",
    "f1_score = f1_score(y_test, prediction)\n",
    "print(f\"accuracy: {accuracy}\") \n",
    "print(f\"f1_score: {f1_score}\") "
   ]
  },
  {
   "cell_type": "markdown",
   "id": "7f5f4ff9-f125-455b-999a-847b8fdadcef",
   "metadata": {},
   "source": [
    "## Demographics"
   ]
  },
  {
   "cell_type": "code",
   "execution_count": null,
   "id": "de140cdd-3d92-46ff-9e69-299d2f716242",
   "metadata": {},
   "outputs": [],
   "source": [
    "X_train[0]"
   ]
  },
  {
   "cell_type": "code",
   "execution_count": null,
   "id": "3303db53-6e2b-4cd6-a914-d17a62a333c0",
   "metadata": {},
   "outputs": [],
   "source": [
    "sub_set_feature_names = [\n",
    "    \"geoNetwork_subContinent_@\",\n",
    "    \"geoNetwork_subContinent_Caribbean\",\n",
    "    \"geoNetwork_subContinent_Central America\",\n",
    "    \"geoNetwork_subContinent_Eastern Asia\",\n",
    "    \"geoNetwork_subContinent_Northern America\",\n",
    "    \"geoNetwork_subContinent_Northern Europe\",\n",
    "    \"geoNetwork_subContinent_South America\",\n",
    "    \"geoNetwork_subContinent_Western Asia\",\n",
    "    \"positive_revenue\"\n",
    "]\n",
    "\n",
    "visitor_dataframe = get_visitor_dataframe(X_train, y_train, feature_names)\n",
    "visitor_dataframe = add_positive_revenue_column(visitor_dataframe)\n",
    "\n",
    "paying_demographic_dataframe = visitor_dataframe[sub_set_feature_names]\n",
    "paying_demographic_dataframe"
   ]
  },
  {
   "cell_type": "code",
   "execution_count": null,
   "id": "bf5cd9e4-cbcb-4559-82a6-4b08f60e8eb9",
   "metadata": {},
   "outputs": [],
   "source": [
    "paying_demographic_dataframe[paying_demographic_dataframe[\"positive_revenue\"] == 1]"
   ]
  },
  {
   "cell_type": "code",
   "execution_count": null,
   "id": "049e8a08-4c2d-4565-94e9-d1c02847e7e8",
   "metadata": {},
   "outputs": [],
   "source": []
  }
 ],
 "metadata": {
  "kernelspec": {
   "display_name": "Python 3 (ipykernel)",
   "language": "python",
   "name": "python3"
  },
  "language_info": {
   "codemirror_mode": {
    "name": "ipython",
    "version": 3
   },
   "file_extension": ".py",
   "mimetype": "text/x-python",
   "name": "python",
   "nbconvert_exporter": "python",
   "pygments_lexer": "ipython3",
   "version": "3.10.8"
  }
 },
 "nbformat": 4,
 "nbformat_minor": 5
}
