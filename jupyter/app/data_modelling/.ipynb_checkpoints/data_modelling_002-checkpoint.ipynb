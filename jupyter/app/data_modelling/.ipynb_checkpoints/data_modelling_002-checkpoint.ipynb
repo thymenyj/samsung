{
 "cells": [
  {
   "cell_type": "code",
   "execution_count": 21,
   "id": "6d5b9a18-e892-4081-ad7f-5af8bde970b7",
   "metadata": {},
   "outputs": [],
   "source": [
    "from pandas import read_pickle, DataFrame, set_option"
   ]
  },
  {
   "cell_type": "code",
   "execution_count": null,
   "id": "83c50242-ce4e-4f2b-9412-26aaaa838e0e",
   "metadata": {},
   "outputs": [],
   "source": [
    "data = read_pickle(\"../data/data_all_features.pkl\")\n",
    "\n",
    "X_train = data.get(\"X_train\")\n",
    "y_train = data.get(\"y_train\")\n",
    "X_test = data.get(\"X_test\")\n",
    "feature_names = data.get(\"feature_names\")\n",
    "categorical = data.get(\"categorical\")\n",
    "numerical = data.get(\"numerical\")\n",
    "id_numeration_train = data.get(\"id_numeration_train\")\n",
    "id_numeration_test = data.get(\"id_numeration_test\")"
   ]
  },
  {
   "cell_type": "code",
   "execution_count": null,
   "id": "cf529908-855a-4669-8c05-3fec12f57a67",
   "metadata": {},
   "outputs": [],
   "source": [
    "def get_visitor_dataframe(X_train, y_train):\n",
    "    visitor_dataframe = DataFrame(columns=feature_names, data=X_train)\n",
    "    visitor_dataframe[\"totals_transaction_revenue\"] = y_train\n",
    "    return visitor_dataframe\n",
    "\n",
    "def remove_non_paying_visitors(visitor_dataframe):\n",
    "    visits_with_positive_revenue = visitor_dataframe[visitor_dataframe[\"totals_transaction_revenue\"] > 0]\n",
    "    return visits_with_positive_revenue"
   ]
  },
  {
   "cell_type": "code",
   "execution_count": null,
   "id": "5621bbdd-b9f6-4af3-a4e5-39ce062de6ea",
   "metadata": {},
   "outputs": [],
   "source": [
    "visitor_dataframe = get_visitor_dataframe(X_train, y_train)\n",
    "paying_visitor_dataframe = remove_non_paying_visitors(visitor_dataframe)"
   ]
  },
  {
   "cell_type": "code",
   "execution_count": null,
   "id": "2273740e-33d8-4b6a-adbb-8bd067c633bd",
   "metadata": {
    "tags": []
   },
   "outputs": [],
   "source": [
    "X_dataframe = paying_visitor_dataframe.drop(columns=[\"totals_transaction_revenue\"])\n",
    "paying_dict = X_dataframe.to_dict(\"tight\")\n",
    "X = paying_dict.get(\"data\")"
   ]
  },
  {
   "cell_type": "code",
   "execution_count": null,
   "id": "bd117341-5e91-4b03-8dec-ece72da6a13e",
   "metadata": {
    "tags": []
   },
   "outputs": [],
   "source": [
    "y = paying_visitor_dataframe[\"totals_transaction_revenue\"].values"
   ]
  },
  {
   "cell_type": "code",
   "execution_count": null,
   "id": "e40789b5-1a87-44aa-b1c4-fc5d759ad47c",
   "metadata": {},
   "outputs": [],
   "source": [
    "from sklearn.datasets import make_classification\n",
    "from sklearn.model_selection import train_test_split\n",
    "\n",
    "X_train, X_test, y_train, y_test = train_test_split(X, y, random_state=42, 0.01)"
   ]
  },
  {
   "cell_type": "code",
   "execution_count": null,
   "id": "7abf7896-87a0-4c23-95ef-88ac5679e67f",
   "metadata": {},
   "outputs": [],
   "source": [
    "# linear regression feature importance\n",
    "from sklearn.datasets import make_regression\n",
    "from sklearn.linear_model import LinearRegression\n",
    "from matplotlib import pyplot\n",
    "# define the model\n",
    "model = LinearRegression()\n",
    "# fit the model\n",
    "model.fit(X_train, y_train)\n",
    "# get importance\n",
    "importance = model.coef_\n",
    "\n",
    "# summarize feature importance\n",
    "for index, value in enumerate(importance):\n",
    "    try:\n",
    "        print(f\"Feature: {feature_names[index]: <60} Score: {value: <20}\")\n",
    "    except:\n",
    "        pass"
   ]
  },
  {
   "cell_type": "code",
   "execution_count": null,
   "id": "b927d62b-79f0-4416-bb64-3dbcea945138",
   "metadata": {},
   "outputs": [],
   "source": [
    "feature_importance_dataframe = DataFrame(importance, columns=[\"importance\"])\n",
    "feature_importance_dataframe[\"feature_name\"] = feature_names\n",
    "feature_importance_dataframe[\"importance_abs\"] = feature_importance_dataframe[\"importance\"].abs()\n",
    "\n",
    "feature_importance_dataframe.sort_values(by=['importance_abs'], inplace=True, ascending=False)"
   ]
  },
  {
   "cell_type": "code",
   "execution_count": null,
   "id": "92294ab5-1460-48f5-9e6d-0d19c91e860e",
   "metadata": {},
   "outputs": [],
   "source": [
    "import matplotlib.pyplot as plt; plt.rcdefaults()\n",
    "import numpy as np\n",
    "import matplotlib.pyplot as plt\n",
    "\n",
    "y_pos = np.arange(len(feature_names))\n",
    "importance = feature_importance_dataframe[\"importance\"].values\n",
    "\n",
    "fig, ax = plt.subplots(figsize=(25, 5))\n",
    "plt.bar(y_pos, importance, align='center', alpha=0.5)\n",
    "plt.xticks(y_pos, feature_importance_dataframe[\"feature_name\"].values)\n",
    "plt.ylabel('Importance')\n",
    "plt.title('Feature Importance')\n",
    "plt.xticks(rotation=45, ha=\"right\")\n",
    "\n",
    "plt.show()"
   ]
  },
  {
   "cell_type": "code",
   "execution_count": null,
   "id": "6cfbc7be-87a7-4188-9647-55535a0162e3",
   "metadata": {},
   "outputs": [],
   "source": [
    "top_features = feature_importance_dataframe.iloc[:20]"
   ]
  },
  {
   "cell_type": "code",
   "execution_count": null,
   "id": "0ac21b69-ad3a-4322-a616-3dbc2aa8c995",
   "metadata": {},
   "outputs": [],
   "source": [
    "y_pos = np.arange(20)\n",
    "importance_top = top_features[\"importance\"].values\n",
    "\n",
    "fig, ax = plt.subplots(figsize=(10, 5))\n",
    "plt.bar(y_pos, importance_top, align='center', alpha=0.5)\n",
    "plt.xticks(y_pos, top_features[\"feature_name\"].values)\n",
    "plt.ylabel('Importance')\n",
    "plt.title('Feature Importance')\n",
    "plt.xticks(rotation=45, ha=\"right\")\n",
    "\n",
    "plt.show()"
   ]
  },
  {
   "cell_type": "code",
   "execution_count": null,
   "id": "c7ddf6da-c3c8-45aa-9afb-812f62025c4d",
   "metadata": {},
   "outputs": [],
   "source": []
  }
 ],
 "metadata": {
  "kernelspec": {
   "display_name": "Python 3 (ipykernel)",
   "language": "python",
   "name": "python3"
  },
  "language_info": {
   "codemirror_mode": {
    "name": "ipython",
    "version": 3
   },
   "file_extension": ".py",
   "mimetype": "text/x-python",
   "name": "python",
   "nbconvert_exporter": "python",
   "pygments_lexer": "ipython3",
   "version": "3.10.8"
  }
 },
 "nbformat": 4,
 "nbformat_minor": 5
}
