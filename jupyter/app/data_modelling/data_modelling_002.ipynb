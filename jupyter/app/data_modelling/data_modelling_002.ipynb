{
 "cells": [
  {
   "cell_type": "code",
   "execution_count": 39,
   "metadata": {},
   "outputs": [],
   "source": [
    "from pandas import read_pickle, DataFrame, concat\n",
    "from sklearn.model_selection import train_test_split"
   ]
  },
  {
   "cell_type": "code",
   "execution_count": 7,
   "metadata": {},
   "outputs": [],
   "source": [
    "data = read_pickle(\"app/data/data_all_features.pkl\")\n",
    "\n",
    "X_train = data.get(\"X_train\")\n",
    "y_train = data.get(\"y_train\")\n",
    "X_test = data.get(\"X_test\")\n",
    "feature_names = data.get(\"feature_names\")\n",
    "categorical = data.get(\"categorical\")\n",
    "numerical = data.get(\"numerical\")\n",
    "id_numeration_train = data.get(\"id_numeration_train\")\n",
    "id_numeration_test = data.get(\"id_numeration_test\")"
   ]
  },
  {
   "cell_type": "code",
   "execution_count": 20,
   "metadata": {},
   "outputs": [],
   "source": [
    "def add_positive_revenue_column(visitor_dataframe):\n",
    "    visitor_dataframe[\"positive_revenue\"] = visitor_dataframe[\"totals_transaction_revenue\"] > 0\n",
    "    visitor_dataframe[\"positive_revenue\"] = visitor_dataframe[\"positive_revenue\"].astype(\"float\")\n",
    "    visitor_dataframe = visitor_dataframe.drop(columns=[\"totals_transaction_revenue\"])\n",
    "    return visitor_dataframe\n",
    "\n",
    "def get_visitor_dataframe(X_train, y_train, feature_names):\n",
    "    visitor_dataframe = DataFrame(columns=feature_names, data=X_train)\n",
    "    visitor_dataframe[\"totals_transaction_revenue\"] = y_train\n",
    "    \n",
    "    visitor_dataframe = add_positive_revenue_column(visitor_dataframe)\n",
    "    \n",
    "    return visitor_dataframe\n"
   ]
  },
  {
   "cell_type": "code",
   "execution_count": 21,
   "metadata": {},
   "outputs": [],
   "source": [
    "visitor_dataframe = get_visitor_dataframe(X_train, y_train, feature_names)\n"
   ]
  },
  {
   "cell_type": "code",
   "execution_count": 40,
   "metadata": {},
   "outputs": [],
   "source": [
    "paying_visitor_dataframe = visitor_dataframe[visitor_dataframe[\"positive_revenue\"] == 1]\n",
    "number_of_rows = len(paying_visitor_dataframe)\n",
    "non_paying_visitor_dataframe = visitor_dataframe[visitor_dataframe[\"positive_revenue\"] == 0][:number_of_rows]\n",
    "\n",
    "balanced_dataframe = concat([paying_visitor_dataframe, non_paying_visitor_dataframe])"
   ]
  },
  {
   "cell_type": "code",
   "execution_count": 42,
   "metadata": {},
   "outputs": [],
   "source": [
    "X_train, X_test, y_train, y_test = train_test_split(\n",
    "    visitor_dataframe.drop(columns=[\"positive_revenue\"]), \n",
    "    visitor_dataframe[\"positive_revenue\"], \n",
    "    test_size = 0.2,\n",
    "    random_state=1\n",
    ")"
   ]
  },
  {
   "cell_type": "code",
   "execution_count": 45,
   "metadata": {},
   "outputs": [
    {
     "name": "stderr",
     "output_type": "stream",
     "text": [
      "[Parallel(n_jobs=20)]: Using backend ThreadingBackend with 20 concurrent workers.\n",
      "[Parallel(n_jobs=20)]: Done  10 tasks      | elapsed:    5.3s\n",
      "[Parallel(n_jobs=20)]: Done 100 out of 100 | elapsed:   26.0s finished\n"
     ]
    },
    {
     "data": {
      "text/html": [
       "<style>#sk-container-id-2 {color: black;background-color: white;}#sk-container-id-2 pre{padding: 0;}#sk-container-id-2 div.sk-toggleable {background-color: white;}#sk-container-id-2 label.sk-toggleable__label {cursor: pointer;display: block;width: 100%;margin-bottom: 0;padding: 0.3em;box-sizing: border-box;text-align: center;}#sk-container-id-2 label.sk-toggleable__label-arrow:before {content: \"▸\";float: left;margin-right: 0.25em;color: #696969;}#sk-container-id-2 label.sk-toggleable__label-arrow:hover:before {color: black;}#sk-container-id-2 div.sk-estimator:hover label.sk-toggleable__label-arrow:before {color: black;}#sk-container-id-2 div.sk-toggleable__content {max-height: 0;max-width: 0;overflow: hidden;text-align: left;background-color: #f0f8ff;}#sk-container-id-2 div.sk-toggleable__content pre {margin: 0.2em;color: black;border-radius: 0.25em;background-color: #f0f8ff;}#sk-container-id-2 input.sk-toggleable__control:checked~div.sk-toggleable__content {max-height: 200px;max-width: 100%;overflow: auto;}#sk-container-id-2 input.sk-toggleable__control:checked~label.sk-toggleable__label-arrow:before {content: \"▾\";}#sk-container-id-2 div.sk-estimator input.sk-toggleable__control:checked~label.sk-toggleable__label {background-color: #d4ebff;}#sk-container-id-2 div.sk-label input.sk-toggleable__control:checked~label.sk-toggleable__label {background-color: #d4ebff;}#sk-container-id-2 input.sk-hidden--visually {border: 0;clip: rect(1px 1px 1px 1px);clip: rect(1px, 1px, 1px, 1px);height: 1px;margin: -1px;overflow: hidden;padding: 0;position: absolute;width: 1px;}#sk-container-id-2 div.sk-estimator {font-family: monospace;background-color: #f0f8ff;border: 1px dotted black;border-radius: 0.25em;box-sizing: border-box;margin-bottom: 0.5em;}#sk-container-id-2 div.sk-estimator:hover {background-color: #d4ebff;}#sk-container-id-2 div.sk-parallel-item::after {content: \"\";width: 100%;border-bottom: 1px solid gray;flex-grow: 1;}#sk-container-id-2 div.sk-label:hover label.sk-toggleable__label {background-color: #d4ebff;}#sk-container-id-2 div.sk-serial::before {content: \"\";position: absolute;border-left: 1px solid gray;box-sizing: border-box;top: 0;bottom: 0;left: 50%;z-index: 0;}#sk-container-id-2 div.sk-serial {display: flex;flex-direction: column;align-items: center;background-color: white;padding-right: 0.2em;padding-left: 0.2em;position: relative;}#sk-container-id-2 div.sk-item {position: relative;z-index: 1;}#sk-container-id-2 div.sk-parallel {display: flex;align-items: stretch;justify-content: center;background-color: white;position: relative;}#sk-container-id-2 div.sk-item::before, #sk-container-id-2 div.sk-parallel-item::before {content: \"\";position: absolute;border-left: 1px solid gray;box-sizing: border-box;top: 0;bottom: 0;left: 50%;z-index: -1;}#sk-container-id-2 div.sk-parallel-item {display: flex;flex-direction: column;z-index: 1;position: relative;background-color: white;}#sk-container-id-2 div.sk-parallel-item:first-child::after {align-self: flex-end;width: 50%;}#sk-container-id-2 div.sk-parallel-item:last-child::after {align-self: flex-start;width: 50%;}#sk-container-id-2 div.sk-parallel-item:only-child::after {width: 0;}#sk-container-id-2 div.sk-dashed-wrapped {border: 1px dashed gray;margin: 0 0.4em 0.5em 0.4em;box-sizing: border-box;padding-bottom: 0.4em;background-color: white;}#sk-container-id-2 div.sk-label label {font-family: monospace;font-weight: bold;display: inline-block;line-height: 1.2em;}#sk-container-id-2 div.sk-label-container {text-align: center;}#sk-container-id-2 div.sk-container {/* jupyter's `normalize.less` sets `[hidden] { display: none; }` but bootstrap.min.css set `[hidden] { display: none !important; }` so we also need the `!important` here to be able to override the default hidden behavior on the sphinx rendered scikit-learn.org. See: https://github.com/scikit-learn/scikit-learn/issues/21755 */display: inline-block !important;position: relative;}#sk-container-id-2 div.sk-text-repr-fallback {display: none;}</style><div id=\"sk-container-id-2\" class=\"sk-top-container\"><div class=\"sk-text-repr-fallback\"><pre>RandomForestClassifier(n_jobs=20, random_state=2, verbose=True)</pre><b>In a Jupyter environment, please rerun this cell to show the HTML representation or trust the notebook. <br />On GitHub, the HTML representation is unable to render, please try loading this page with nbviewer.org.</b></div><div class=\"sk-container\" hidden><div class=\"sk-item\"><div class=\"sk-estimator sk-toggleable\"><input class=\"sk-toggleable__control sk-hidden--visually\" id=\"sk-estimator-id-2\" type=\"checkbox\" checked><label for=\"sk-estimator-id-2\" class=\"sk-toggleable__label sk-toggleable__label-arrow\">RandomForestClassifier</label><div class=\"sk-toggleable__content\"><pre>RandomForestClassifier(n_jobs=20, random_state=2, verbose=True)</pre></div></div></div></div></div>"
      ],
      "text/plain": [
       "RandomForestClassifier(n_jobs=20, random_state=2, verbose=True)"
      ]
     },
     "execution_count": 45,
     "metadata": {},
     "output_type": "execute_result"
    }
   ],
   "source": [
    "from sklearn.ensemble import RandomForestClassifier\n",
    " \n",
    "forest = RandomForestClassifier(n_estimators=100, n_jobs=20, random_state=2, verbose=True)\n",
    "forest.fit(X_train, y_train.values.ravel())"
   ]
  },
  {
   "cell_type": "code",
   "execution_count": 46,
   "metadata": {},
   "outputs": [
    {
     "name": "stderr",
     "output_type": "stream",
     "text": [
      "[Parallel(n_jobs=20)]: Using backend ThreadingBackend with 20 concurrent workers.\n",
      "[Parallel(n_jobs=20)]: Done  10 tasks      | elapsed:    0.1s\n"
     ]
    },
    {
     "name": "stdout",
     "output_type": "stream",
     "text": [
      "accuracy: 0.986879053563813\n",
      "f1_score: 0.3083211678832117\n"
     ]
    },
    {
     "name": "stderr",
     "output_type": "stream",
     "text": [
      "[Parallel(n_jobs=20)]: Done 100 out of 100 | elapsed:    0.3s finished\n"
     ]
    }
   ],
   "source": [
    "from sklearn.metrics import confusion_matrix, f1_score, accuracy_score\n",
    "\n",
    "prediction = forest.predict(X_test)\n",
    "confusion_matrix(y_test, prediction)\n",
    "# Display accuracy score\n",
    "accuracy = accuracy_score(y_test, prediction)\n",
    "# Display F1 score\n",
    "f1_score = f1_score(y_test, prediction)\n",
    "print(f\"accuracy: {accuracy}\")\n",
    "print(f\"f1_score: {f1_score}\")"
   ]
  },
  {
   "cell_type": "code",
   "execution_count": 48,
   "metadata": {},
   "outputs": [
    {
     "name": "stdout",
     "output_type": "stream",
     "text": [
      " 1) totals_pageviews               0.269958\n",
      " 2) totals_hits                    0.246995\n",
      " 3) weekday                        0.097834\n",
      " 4) visitNumber                    0.066160\n",
      " 5) geoNetwork_networkDomain       0.057714\n",
      " 6) geoNetwork_city                0.016942\n",
      " 7) device_operatingSystem         0.010986\n",
      " 8) geoNetwork_metro               0.010702\n",
      " 9) trafficSource_isTrueDirect     0.010376\n",
      "10) geoNetwork_region              0.009684\n",
      "11) totals_newVisits               0.008476\n",
      "12) trafficSource_source_mall.googleplex.com 0.008409\n",
      "13) geoNetwork_networkDomain_comcast.net 0.008205\n",
      "14) device_operatingSystem_Macintosh 0.007217\n",
      "15) geoNetwork_country             0.006928\n",
      "16) geoNetwork_country_United States 0.006454\n",
      "17) geoNetwork_subContinent_Northern America 0.005912\n",
      "18) trafficSource_source           0.005616\n",
      "19) geoNetwork_continent_Americas  0.005597\n",
      "20) device_operatingSystem_Windows 0.005206\n",
      "21) geoNetwork_networkDomain_verizon.net 0.005044\n",
      "22) geoNetwork_networkDomain_rr.com 0.004917\n",
      "23) device_browser                 0.004912\n",
      "24) totals_bounces                 0.004653\n",
      "25) channelGrouping_Referral       0.003935\n",
      "26) device_operatingSystem_Chrome OS 0.003921\n",
      "27) device_operatingSystem_Linux   0.003640\n",
      "28) geoNetwork_networkDomain_comcastbusiness.net 0.003488\n",
      "29) device_browser_Chrome          0.003442\n",
      "30) geoNetwork_city_San Francisco  0.003373\n",
      "31) geoNetwork_city_Mountain View  0.003200\n",
      "32) trafficSource_referralPath     0.002909\n",
      "33) geoNetwork_metro_San Francisco-Oakland-San Jose CA 0.002893\n",
      "34) geoNetwork_region_California   0.002677\n",
      "35) geoNetwork_networkDomain_sbcglobal.net 0.002609\n",
      "36) geoNetwork_networkDomain_cox.net 0.002554\n",
      "37) geoNetwork_city_Sunnyvale      0.002402\n",
      "38) device_isMobile                0.002370\n",
      "39) device_browser_Safari          0.002181\n",
      "40) trafficSource_source_google    0.002172\n",
      "41) device_deviceCategory_mobile   0.002126\n",
      "42) trafficSource_medium_referral  0.002091\n",
      "43) device_deviceCategory_desktop  0.002034\n",
      "44) trafficSource_medium_organic   0.002013\n",
      "45) trafficSource_keyword          0.001994\n",
      "46) geoNetwork_city_San Jose       0.001921\n",
      "47) geoNetwork_city_New York       0.001695\n",
      "48) channelGrouping_Organic Search 0.001607\n",
      "49) device_browser_Firefox         0.001607\n",
      "50) geoNetwork_region_New York     0.001487\n",
      "51) trafficSource_medium_@         0.001404\n",
      "52) geoNetwork_metro_New York NY   0.001333\n",
      "53) channelGrouping_Direct         0.001307\n",
      "54) geoNetwork_metro_Los Angeles CA 0.001291\n",
      "55) trafficSource_source_(direct)  0.001283\n",
      "56) geoNetwork_continent_Asia      0.001282\n",
      "57) geoNetwork_city_San Bruno      0.001225\n",
      "58) device_operatingSystem_Android 0.001215\n",
      "59) geoNetwork_city_Los Angeles    0.001180\n",
      "60) geoNetwork_region_Texas        0.001146\n",
      "61) geoNetwork_city_Santa Clara    0.001136\n",
      "62) device_browser_Internet Explorer 0.001117\n",
      "63) device_operatingSystem_iOS     0.001047\n",
      "64) device_deviceCategory_tablet   0.001042\n",
      "65) geoNetwork_city_Chicago        0.001000\n",
      "66) geoNetwork_metro_Seattle-Tacoma WA 0.000997\n",
      "67) geoNetwork_country_Canada      0.000965\n",
      "68) geoNetwork_city_Austin         0.000948\n",
      "69) geoNetwork_continent_Europe    0.000944\n",
      "70) geoNetwork_metro_Chicago IL    0.000943\n",
      "71) geoNetwork_region_Washington   0.000930\n",
      "72) geoNetwork_region_Illinois     0.000913\n",
      "73) trafficSource_campaign         0.000867\n",
      "74) geoNetwork_city_Seattle        0.000805\n",
      "75) channelGrouping_Social         0.000797\n",
      "76) trafficSource_keyword_6qEhsCssdK0z36ri 0.000709\n",
      "77) geoNetwork_region_Massachusetts 0.000676\n",
      "78) geoNetwork_city_Ann Arbor      0.000641\n",
      "79) trafficSource_campaign_AW - Dynamic Search Ads Whole Site 0.000639\n",
      "80) geoNetwork_region_District of Columbia 0.000636\n",
      "81) channelGrouping_Display        0.000627\n",
      "82) geoNetwork_city_Washington     0.000624\n",
      "83) geoNetwork_region_Michigan     0.000610\n",
      "84) trafficSource_adContent        0.000598\n",
      "85) geoNetwork_region_Georgia      0.000587\n",
      "86) geoNetwork_city_Kirkland       0.000583\n",
      "87) geoNetwork_city_Atlanta        0.000558\n",
      "88) trafficSource_medium_cpm       0.000556\n",
      "89) geoNetwork_city_Cambridge      0.000549\n",
      "90) trafficSource_adwordsClickInfo.adNetworkType_@ 0.000538\n",
      "91) channelGrouping_Paid Search    0.000536\n",
      "92) trafficSource_adwordsClickInfo.slot_Top 0.000523\n",
      "93) trafficSource_keyword_1hZbAqLCbjwfgOH7 0.000506\n",
      "94) trafficSource_adwordsClickInfo.page 0.000503\n",
      "95) trafficSource_source_dfa       0.000500\n",
      "96) device_browser_Edge            0.000486\n",
      "97) geoNetwork_city_Houston        0.000484\n",
      "98) geoNetwork_city_Toronto        0.000478\n",
      "99) trafficSource_source_dealspotr.com 0.000452\n",
      "100) geoNetwork_subContinent_Eastern Asia 0.000423\n",
      "101) trafficSource_keyword_google merchandise store 0.000417\n",
      "102) geoNetwork_subContinent_South America 0.000404\n",
      "103) geoNetwork_city_Salem          0.000387\n",
      "104) trafficSource_source_mail.google.com 0.000374\n",
      "105) trafficSource_source_sites.google.com 0.000371\n",
      "106) trafficSource_referralPath_/mail/u/0/ 0.000367\n",
      "107) trafficSource_adContent_Google Merchandise Collection 0.000356\n",
      "108) geoNetwork_country_Venezuela   0.000343\n",
      "109) trafficSource_source_youtube.com 0.000343\n",
      "110) trafficSource_campaign_AW - Accessories 0.000323\n",
      "111) trafficSource_keyword_Google Merchandise 0.000294\n",
      "112) trafficSource_source_bing      0.000283\n",
      "113) trafficSource_source_yahoo     0.000283\n",
      "114) trafficSource_referralPath_/a/google.com/forum/ 0.000277\n",
      "115) trafficSource_source_groups.google.com 0.000265\n",
      "116) trafficSource_referralPath_/google-merchandise-store 0.000254\n",
      "117) geoNetwork_subContinent_Central America 0.000252\n",
      "118) geoNetwork_subContinent_Northern Europe 0.000244\n",
      "119) geoNetwork_subContinent_Western Asia 0.000191\n",
      "120) geoNetwork_subContinent_Caribbean 0.000183\n",
      "121) trafficSource_source_l.facebook.com 0.000178\n",
      "122) channelGrouping_Affiliates     0.000170\n",
      "123) trafficSource_referralPath_/yt/about/ 0.000161\n",
      "124) trafficSource_referralPath_/offer/2145 0.000153\n",
      "125) trafficSource_source_analytics.google.com 0.000144\n",
      "126) trafficSource_referralPath_/analytics/web/ 0.000138\n",
      "127) geoNetwork_country_Brazil      0.000106\n",
      "128) geoNetwork_continent_@         0.000095\n",
      "129) trafficSource_keyword_(Remarketing/Content targeting) 0.000094\n",
      "130) geoNetwork_subContinent_@      0.000086\n",
      "131) trafficSource_source_t.co      0.000082\n",
      "132) trafficSource_referralPath_/yt/about/es-419/ 0.000004\n",
      "133) trafficSource_referralPath_/yt/about/pt-BR/ 0.000000\n",
      "134) trafficSource_referralPath_/yt/about/tr/ 0.000000\n"
     ]
    }
   ],
   "source": [
    "import numpy as np\n",
    " \n",
    "importances = forest.feature_importances_\n",
    "#\n",
    "# Sort the feature importance in descending order\n",
    "#\n",
    "sorted_indices = np.argsort(importances)[::-1]\n",
    " \n",
    "feat_labels = visitor_dataframe.drop(columns=[\"positive_revenue\"]).columns\n",
    " \n",
    "for f in range(X_train.shape[1]):\n",
    "    print(\"%2d) %-*s %f\" % (f + 1, 30,\n",
    "                            feat_labels[sorted_indices[f]],\n",
    "                            importances[sorted_indices[f]]))"
   ]
  },
  {
   "cell_type": "code",
   "execution_count": null,
   "metadata": {},
   "outputs": [],
   "source": []
  }
 ],
 "metadata": {
  "kernelspec": {
   "display_name": "Python 3 (ipykernel)",
   "language": "python",
   "name": "python3"
  },
  "language_info": {
   "codemirror_mode": {
    "name": "ipython",
    "version": 3
   },
   "file_extension": ".py",
   "mimetype": "text/x-python",
   "name": "python",
   "nbconvert_exporter": "python",
   "pygments_lexer": "ipython3",
   "version": "3.10.8"
  },
  "orig_nbformat": 4
 },
 "nbformat": 4,
 "nbformat_minor": 2
}
