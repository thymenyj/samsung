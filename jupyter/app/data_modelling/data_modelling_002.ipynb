{
 "cells": [
  {
   "cell_type": "code",
   "execution_count": 16,
   "metadata": {},
   "outputs": [],
   "source": [
    "from pandas import read_pickle, DataFrame, concat\n",
    "from sklearn.model_selection import train_test_split"
   ]
  },
  {
   "cell_type": "code",
   "execution_count": 17,
   "metadata": {},
   "outputs": [],
   "source": [
    "data = read_pickle(\"../data/data_all_features.pkl\")\n",
    "\n",
    "X_train = data.get(\"X_train\")\n",
    "y_train = data.get(\"y_train\")\n",
    "X_test = data.get(\"X_test\")\n",
    "feature_names = data.get(\"feature_names\")\n",
    "categorical = data.get(\"categorical\")\n",
    "numerical = data.get(\"numerical\")\n",
    "id_numeration_train = data.get(\"id_numeration_train\")\n",
    "id_numeration_test = data.get(\"id_numeration_test\")"
   ]
  },
  {
   "cell_type": "code",
   "execution_count": 18,
   "metadata": {},
   "outputs": [],
   "source": [
    "def add_positive_revenue_column(visitor_dataframe):\n",
    "    visitor_dataframe[\"positive_revenue\"] = visitor_dataframe[\"totals_transaction_revenue\"] > 0\n",
    "    visitor_dataframe[\"positive_revenue\"] = visitor_dataframe[\"positive_revenue\"].astype(\"float\")\n",
    "    visitor_dataframe = visitor_dataframe.drop(columns=[\"totals_transaction_revenue\"])\n",
    "    return visitor_dataframe\n",
    "\n",
    "def get_visitor_dataframe(X_train, y_train, feature_names):\n",
    "    visitor_dataframe = DataFrame(columns=feature_names, data=X_train)\n",
    "    visitor_dataframe[\"totals_transaction_revenue\"] = y_train\n",
    "    \n",
    "    visitor_dataframe = add_positive_revenue_column(visitor_dataframe)\n",
    "    \n",
    "    return visitor_dataframe\n"
   ]
  },
  {
   "cell_type": "code",
   "execution_count": 19,
   "metadata": {},
   "outputs": [],
   "source": [
    "visitor_dataframe = get_visitor_dataframe(X_train, y_train, feature_names)\n"
   ]
  },
  {
   "cell_type": "code",
   "execution_count": 20,
   "metadata": {},
   "outputs": [],
   "source": [
    "paying_visitor_dataframe = visitor_dataframe[visitor_dataframe[\"positive_revenue\"] == 1]\n",
    "number_of_rows = len(paying_visitor_dataframe)\n",
    "non_paying_visitor_dataframe = visitor_dataframe[visitor_dataframe[\"positive_revenue\"] == 0][:number_of_rows]\n",
    "\n",
    "balanced_dataframe = concat([paying_visitor_dataframe, non_paying_visitor_dataframe])"
   ]
  },
  {
   "cell_type": "code",
   "execution_count": 21,
   "metadata": {},
   "outputs": [],
   "source": [
    "X_train, X_test, y_train, y_test = train_test_split(\n",
    "    balanced_dataframe.drop(columns=[\"positive_revenue\"]), \n",
    "    balanced_dataframe[\"positive_revenue\"], \n",
    "    test_size = 0.2,\n",
    "    random_state=1\n",
    ")"
   ]
  },
  {
   "cell_type": "code",
   "execution_count": 22,
   "metadata": {},
   "outputs": [
    {
     "name": "stderr",
     "output_type": "stream",
     "text": [
      "[Parallel(n_jobs=20)]: Using backend ThreadingBackend with 20 concurrent workers.\n",
      "[Parallel(n_jobs=20)]: Done  10 tasks      | elapsed:    0.0s\n",
      "[Parallel(n_jobs=20)]: Done 100 out of 100 | elapsed:    0.1s finished\n"
     ]
    },
    {
     "data": {
      "text/html": [
       "<style>#sk-container-id-2 {color: black;background-color: white;}#sk-container-id-2 pre{padding: 0;}#sk-container-id-2 div.sk-toggleable {background-color: white;}#sk-container-id-2 label.sk-toggleable__label {cursor: pointer;display: block;width: 100%;margin-bottom: 0;padding: 0.3em;box-sizing: border-box;text-align: center;}#sk-container-id-2 label.sk-toggleable__label-arrow:before {content: \"▸\";float: left;margin-right: 0.25em;color: #696969;}#sk-container-id-2 label.sk-toggleable__label-arrow:hover:before {color: black;}#sk-container-id-2 div.sk-estimator:hover label.sk-toggleable__label-arrow:before {color: black;}#sk-container-id-2 div.sk-toggleable__content {max-height: 0;max-width: 0;overflow: hidden;text-align: left;background-color: #f0f8ff;}#sk-container-id-2 div.sk-toggleable__content pre {margin: 0.2em;color: black;border-radius: 0.25em;background-color: #f0f8ff;}#sk-container-id-2 input.sk-toggleable__control:checked~div.sk-toggleable__content {max-height: 200px;max-width: 100%;overflow: auto;}#sk-container-id-2 input.sk-toggleable__control:checked~label.sk-toggleable__label-arrow:before {content: \"▾\";}#sk-container-id-2 div.sk-estimator input.sk-toggleable__control:checked~label.sk-toggleable__label {background-color: #d4ebff;}#sk-container-id-2 div.sk-label input.sk-toggleable__control:checked~label.sk-toggleable__label {background-color: #d4ebff;}#sk-container-id-2 input.sk-hidden--visually {border: 0;clip: rect(1px 1px 1px 1px);clip: rect(1px, 1px, 1px, 1px);height: 1px;margin: -1px;overflow: hidden;padding: 0;position: absolute;width: 1px;}#sk-container-id-2 div.sk-estimator {font-family: monospace;background-color: #f0f8ff;border: 1px dotted black;border-radius: 0.25em;box-sizing: border-box;margin-bottom: 0.5em;}#sk-container-id-2 div.sk-estimator:hover {background-color: #d4ebff;}#sk-container-id-2 div.sk-parallel-item::after {content: \"\";width: 100%;border-bottom: 1px solid gray;flex-grow: 1;}#sk-container-id-2 div.sk-label:hover label.sk-toggleable__label {background-color: #d4ebff;}#sk-container-id-2 div.sk-serial::before {content: \"\";position: absolute;border-left: 1px solid gray;box-sizing: border-box;top: 0;bottom: 0;left: 50%;z-index: 0;}#sk-container-id-2 div.sk-serial {display: flex;flex-direction: column;align-items: center;background-color: white;padding-right: 0.2em;padding-left: 0.2em;position: relative;}#sk-container-id-2 div.sk-item {position: relative;z-index: 1;}#sk-container-id-2 div.sk-parallel {display: flex;align-items: stretch;justify-content: center;background-color: white;position: relative;}#sk-container-id-2 div.sk-item::before, #sk-container-id-2 div.sk-parallel-item::before {content: \"\";position: absolute;border-left: 1px solid gray;box-sizing: border-box;top: 0;bottom: 0;left: 50%;z-index: -1;}#sk-container-id-2 div.sk-parallel-item {display: flex;flex-direction: column;z-index: 1;position: relative;background-color: white;}#sk-container-id-2 div.sk-parallel-item:first-child::after {align-self: flex-end;width: 50%;}#sk-container-id-2 div.sk-parallel-item:last-child::after {align-self: flex-start;width: 50%;}#sk-container-id-2 div.sk-parallel-item:only-child::after {width: 0;}#sk-container-id-2 div.sk-dashed-wrapped {border: 1px dashed gray;margin: 0 0.4em 0.5em 0.4em;box-sizing: border-box;padding-bottom: 0.4em;background-color: white;}#sk-container-id-2 div.sk-label label {font-family: monospace;font-weight: bold;display: inline-block;line-height: 1.2em;}#sk-container-id-2 div.sk-label-container {text-align: center;}#sk-container-id-2 div.sk-container {/* jupyter's `normalize.less` sets `[hidden] { display: none; }` but bootstrap.min.css set `[hidden] { display: none !important; }` so we also need the `!important` here to be able to override the default hidden behavior on the sphinx rendered scikit-learn.org. See: https://github.com/scikit-learn/scikit-learn/issues/21755 */display: inline-block !important;position: relative;}#sk-container-id-2 div.sk-text-repr-fallback {display: none;}</style><div id=\"sk-container-id-2\" class=\"sk-top-container\"><div class=\"sk-text-repr-fallback\"><pre>RandomForestClassifier(n_jobs=20, random_state=2, verbose=True)</pre><b>In a Jupyter environment, please rerun this cell to show the HTML representation or trust the notebook. <br />On GitHub, the HTML representation is unable to render, please try loading this page with nbviewer.org.</b></div><div class=\"sk-container\" hidden><div class=\"sk-item\"><div class=\"sk-estimator sk-toggleable\"><input class=\"sk-toggleable__control sk-hidden--visually\" id=\"sk-estimator-id-2\" type=\"checkbox\" checked><label for=\"sk-estimator-id-2\" class=\"sk-toggleable__label sk-toggleable__label-arrow\">RandomForestClassifier</label><div class=\"sk-toggleable__content\"><pre>RandomForestClassifier(n_jobs=20, random_state=2, verbose=True)</pre></div></div></div></div></div>"
      ],
      "text/plain": [
       "RandomForestClassifier(n_jobs=20, random_state=2, verbose=True)"
      ]
     },
     "execution_count": 22,
     "metadata": {},
     "output_type": "execute_result"
    }
   ],
   "source": [
    "from sklearn.ensemble import RandomForestClassifier\n",
    " \n",
    "forest = RandomForestClassifier(n_estimators=100, n_jobs=20, random_state=2, verbose=True)\n",
    "forest.fit(X_train, y_train.values.ravel())"
   ]
  },
  {
   "cell_type": "code",
   "execution_count": 23,
   "metadata": {},
   "outputs": [
    {
     "name": "stdout",
     "output_type": "stream",
     "text": [
      "accuracy: 0.9580890336590663\n",
      "f1_score: 0.9585570109512563\n",
      "[[2180  137]\n",
      " [  56 2232]]\n"
     ]
    },
    {
     "name": "stderr",
     "output_type": "stream",
     "text": [
      "[Parallel(n_jobs=20)]: Using backend ThreadingBackend with 20 concurrent workers.\n",
      "[Parallel(n_jobs=20)]: Done  10 tasks      | elapsed:    0.0s\n",
      "[Parallel(n_jobs=20)]: Done 100 out of 100 | elapsed:    0.0s finished\n"
     ]
    }
   ],
   "source": [
    "from sklearn.metrics import confusion_matrix, f1_score, accuracy_score\n",
    "\n",
    "prediction = forest.predict(X_test)\n",
    "matrix = confusion_matrix(y_test, prediction)\n",
    "# Display accuracy score\n",
    "accuracy = accuracy_score(y_test, prediction)\n",
    "# Display F1 score\n",
    "f1_score = f1_score(y_test, prediction)\n",
    "print(f\"accuracy: {accuracy}\")\n",
    "print(f\"f1_score: {f1_score}\")\n",
    "print(matrix)"
   ]
  },
  {
   "cell_type": "code",
   "execution_count": 24,
   "metadata": {},
   "outputs": [
    {
     "name": "stdout",
     "output_type": "stream",
     "text": [
      " 1) totals_pageviews               0.280534\n",
      " 2) totals_hits                    0.222943\n",
      " 3) weekday                        0.094611\n",
      " 4) totals_bounces                 0.052951\n",
      " 5) geoNetwork_country_United States 0.046278\n",
      " 6) geoNetwork_subContinent_Northern America 0.027936\n",
      " 7) geoNetwork_continent_Americas  0.022962\n",
      " 8) geoNetwork_country             0.022779\n",
      " 9) visitNumber                    0.022077\n",
      "10) trafficSource_source_mall.googleplex.com 0.018773\n",
      "11) geoNetwork_networkDomain       0.015772\n",
      "12) geoNetwork_metro               0.014548\n",
      "13) totals_newVisits               0.013586\n",
      "14) geoNetwork_city                0.009415\n",
      "15) geoNetwork_continent_Europe    0.008829\n",
      "16) device_operatingSystem_Macintosh 0.008472\n",
      "17) trafficSource_source_youtube.com 0.007021\n",
      "18) trafficSource_isTrueDirect     0.006920\n",
      "19) channelGrouping_Referral       0.006348\n",
      "20) geoNetwork_continent_Asia      0.005941\n",
      "21) trafficSource_referralPath     0.005679\n",
      "22) trafficSource_source           0.005230\n",
      "23) device_browser                 0.004915\n",
      "24) geoNetwork_region              0.004775\n",
      "25) device_operatingSystem         0.004700\n",
      "26) device_deviceCategory_mobile   0.003809\n",
      "27) trafficSource_medium_referral  0.003083\n",
      "28) device_isMobile                0.002906\n",
      "29) channelGrouping_Social         0.002903\n",
      "30) device_browser_Chrome          0.002804\n",
      "31) device_operatingSystem_Windows 0.002753\n",
      "32) device_deviceCategory_desktop  0.002280\n",
      "33) trafficSource_medium_organic   0.001950\n",
      "34) geoNetwork_networkDomain_comcast.net 0.001913\n",
      "35) trafficSource_source_google    0.001581\n",
      "36) geoNetwork_city_Mountain View  0.001529\n",
      "37) device_operatingSystem_Android 0.001365\n",
      "38) device_operatingSystem_Linux   0.001218\n",
      "39) geoNetwork_metro_San Francisco-Oakland-San Jose CA 0.001202\n",
      "40) geoNetwork_networkDomain_rr.com 0.001169\n",
      "41) geoNetwork_region_California   0.001123\n",
      "42) channelGrouping_Organic Search 0.001072\n",
      "43) device_browser_Safari          0.001026\n",
      "44) geoNetwork_networkDomain_verizon.net 0.001012\n",
      "45) device_operatingSystem_Chrome OS 0.000979\n",
      "46) trafficSource_referralPath_/yt/about/ 0.000934\n",
      "47) trafficSource_medium_@         0.000927\n",
      "48) geoNetwork_city_San Francisco  0.000880\n",
      "49) trafficSource_keyword          0.000863\n",
      "50) device_operatingSystem_iOS     0.000841\n",
      "51) trafficSource_source_(direct)  0.000837\n",
      "52) geoNetwork_country_Canada      0.000833\n",
      "53) geoNetwork_networkDomain_sbcglobal.net 0.000832\n",
      "54) geoNetwork_networkDomain_cox.net 0.000800\n",
      "55) geoNetwork_metro_New York NY   0.000748\n",
      "56) geoNetwork_networkDomain_comcastbusiness.net 0.000739\n",
      "57) geoNetwork_city_Sunnyvale      0.000729\n",
      "58) channelGrouping_Direct         0.000720\n",
      "59) geoNetwork_city_San Jose       0.000693\n",
      "60) device_browser_Firefox         0.000556\n",
      "61) geoNetwork_city_Santa Clara    0.000554\n",
      "62) trafficSource_campaign         0.000525\n",
      "63) device_deviceCategory_tablet   0.000509\n",
      "64) geoNetwork_city_New York       0.000500\n",
      "65) geoNetwork_metro_Los Angeles CA 0.000490\n",
      "66) geoNetwork_city_Los Angeles    0.000467\n",
      "67) geoNetwork_region_New York     0.000466\n",
      "68) geoNetwork_subContinent_Eastern Asia 0.000465\n",
      "69) geoNetwork_country_Venezuela   0.000461\n",
      "70) device_browser_Internet Explorer 0.000448\n",
      "71) geoNetwork_city_Chicago        0.000426\n",
      "72) geoNetwork_subContinent_Northern Europe 0.000411\n",
      "73) trafficSource_keyword_6qEhsCssdK0z36ri 0.000372\n",
      "74) trafficSource_adwordsClickInfo.slot_Top 0.000334\n",
      "75) trafficSource_adwordsClickInfo.page 0.000323\n",
      "76) geoNetwork_subContinent_South America 0.000322\n",
      "77) geoNetwork_region_Illinois     0.000301\n",
      "78) geoNetwork_region_Texas        0.000293\n",
      "79) geoNetwork_city_Salem          0.000283\n",
      "80) channelGrouping_Paid Search    0.000270\n",
      "81) geoNetwork_metro_Chicago IL    0.000259\n",
      "82) trafficSource_referralPath_/analytics/web/ 0.000259\n",
      "83) trafficSource_campaign_AW - Dynamic Search Ads Whole Site 0.000253\n",
      "84) trafficSource_source_sites.google.com 0.000251\n",
      "85) trafficSource_adContent        0.000248\n",
      "86) channelGrouping_Affiliates     0.000247\n",
      "87) geoNetwork_metro_Seattle-Tacoma WA 0.000247\n",
      "88) trafficSource_adwordsClickInfo.adNetworkType_@ 0.000244\n",
      "89) geoNetwork_city_Seattle        0.000242\n",
      "90) geoNetwork_region_Washington   0.000239\n",
      "91) trafficSource_referralPath_/a/google.com/forum/ 0.000224\n",
      "92) geoNetwork_city_Ann Arbor      0.000224\n",
      "93) geoNetwork_city_Toronto        0.000219\n",
      "94) geoNetwork_region_Michigan     0.000219\n",
      "95) trafficSource_source_analytics.google.com 0.000214\n",
      "96) geoNetwork_city_Washington     0.000213\n",
      "97) channelGrouping_Display        0.000204\n",
      "98) geoNetwork_subContinent_Western Asia 0.000202\n",
      "99) trafficSource_medium_cpm       0.000188\n",
      "100) geoNetwork_city_San Bruno      0.000179\n",
      "101) geoNetwork_city_Austin         0.000171\n",
      "102) geoNetwork_region_District of Columbia 0.000170\n",
      "103) device_browser_Edge            0.000169\n",
      "104) geoNetwork_region_Georgia      0.000168\n",
      "105) geoNetwork_subContinent_Central America 0.000155\n",
      "106) trafficSource_source_dfa       0.000153\n",
      "107) trafficSource_source_dealspotr.com 0.000153\n",
      "108) trafficSource_source_groups.google.com 0.000147\n",
      "109) trafficSource_adContent_Google Merchandise Collection 0.000142\n",
      "110) geoNetwork_city_Kirkland       0.000139\n",
      "111) geoNetwork_city_Atlanta        0.000137\n",
      "112) trafficSource_campaign_AW - Accessories 0.000136\n",
      "113) geoNetwork_subContinent_Caribbean 0.000136\n",
      "114) trafficSource_source_mail.google.com 0.000122\n",
      "115) trafficSource_keyword_Google Merchandise 0.000118\n",
      "116) trafficSource_referralPath_/mail/u/0/ 0.000117\n",
      "117) geoNetwork_city_Houston        0.000115\n",
      "118) geoNetwork_region_Massachusetts 0.000111\n",
      "119) geoNetwork_subContinent_@      0.000109\n",
      "120) trafficSource_keyword_(Remarketing/Content targeting) 0.000106\n",
      "121) geoNetwork_country_Brazil      0.000102\n",
      "122) trafficSource_keyword_1hZbAqLCbjwfgOH7 0.000102\n",
      "123) trafficSource_keyword_google merchandise store 0.000098\n",
      "124) trafficSource_source_bing      0.000091\n",
      "125) geoNetwork_continent_@         0.000083\n",
      "126) trafficSource_source_l.facebook.com 0.000076\n",
      "127) geoNetwork_city_Cambridge      0.000067\n",
      "128) trafficSource_referralPath_/google-merchandise-store 0.000051\n",
      "129) trafficSource_source_yahoo     0.000049\n",
      "130) trafficSource_source_t.co      0.000046\n",
      "131) trafficSource_referralPath_/offer/2145 0.000042\n",
      "132) trafficSource_referralPath_/yt/about/es-419/ 0.000021\n",
      "133) trafficSource_referralPath_/yt/about/pt-BR/ 0.000001\n",
      "134) trafficSource_referralPath_/yt/about/tr/ 0.000000\n"
     ]
    }
   ],
   "source": [
    "import numpy as np\n",
    " \n",
    "importances = forest.feature_importances_\n",
    "#\n",
    "# Sort the feature importance in descending order\n",
    "#\n",
    "sorted_indices = np.argsort(importances)[::-1]\n",
    " \n",
    "feat_labels = visitor_dataframe.drop(columns=[\"positive_revenue\"]).columns\n",
    " \n",
    "for f in range(X_train.shape[1]):\n",
    "    print(\"%2d) %-*s %f\" % (f + 1, 30,\n",
    "                            feat_labels[sorted_indices[f]],\n",
    "                            importances[sorted_indices[f]]))"
   ]
  },
  {
   "cell_type": "code",
   "execution_count": null,
   "metadata": {},
   "outputs": [],
   "source": []
  }
 ],
 "metadata": {
  "kernelspec": {
   "display_name": "Python 3.10.6 64-bit",
   "language": "python",
   "name": "python3"
  },
  "language_info": {
   "codemirror_mode": {
    "name": "ipython",
    "version": 3
   },
   "file_extension": ".py",
   "mimetype": "text/x-python",
   "name": "python",
   "nbconvert_exporter": "python",
   "pygments_lexer": "ipython3",
   "version": "3.10.6"
  },
  "orig_nbformat": 4,
  "vscode": {
   "interpreter": {
    "hash": "997910d508f0893d0dea8704f09f63e44fe0b217d66401d81af70229b3dfce4e"
   }
  }
 },
 "nbformat": 4,
 "nbformat_minor": 2
}
